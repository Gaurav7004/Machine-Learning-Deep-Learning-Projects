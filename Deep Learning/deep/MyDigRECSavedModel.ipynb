{
 "cells": [
  {
   "cell_type": "code",
   "execution_count": 1,
   "metadata": {
    "colab": {
     "base_uri": "https://localhost:8080/",
     "height": 34
    },
    "colab_type": "code",
    "executionInfo": {
     "elapsed": 5899,
     "status": "ok",
     "timestamp": 1554213968176,
     "user": {
      "displayName": "Afroz Loya",
      "photoUrl": "",
      "userId": "13652725819490475431"
     },
     "user_tz": -330
    },
    "id": "ZhcdnOV9DDjE",
    "outputId": "16bc48d3-0b20-4fc5-90fb-33f10c7aa7f2"
   },
   "outputs": [
    {
     "name": "stderr",
     "output_type": "stream",
     "text": [
      "C:\\ProgramData\\Anaconda3\\lib\\site-packages\\h5py\\__init__.py:36: FutureWarning: Conversion of the second argument of issubdtype from `float` to `np.floating` is deprecated. In future, it will be treated as `np.float64 == np.dtype(float).type`.\n",
      "  from ._conv import register_converters as _register_converters\n",
      "Using TensorFlow backend.\n"
     ]
    }
   ],
   "source": [
    "import numpy as np \n",
    "import pandas as pd\n",
    "import matplotlib.pyplot as plt\n",
    "import seaborn as sns\n",
    "from sklearn.preprocessing import StandardScaler\n",
    "from sklearn.metrics import precision_score, recall_score, confusion_matrix,  roc_curve, precision_recall_curve, accuracy_score, roc_auc_score\n",
    "from keras.models import Sequential\n",
    "from keras.layers import Dense, Dropout,Lambda, Activation,Flatten, Conv2D, MaxPool2D, BatchNormalization\n",
    "from keras.optimizers import Adam\n",
    "from keras.optimizers import RMSprop\n",
    "from sklearn.model_selection import train_test_split\n",
    "from keras.preprocessing.image import ImageDataGenerator\n",
    "from keras.callbacks import ReduceLROnPlateau\n",
    "import tensorflow as tf\n",
    "import os\n",
    "\n",
    "#ignore warning messages \n",
    "import warnings\n",
    "warnings.filterwarnings('ignore') "
   ]
  },
  {
   "cell_type": "code",
   "execution_count": 2,
   "metadata": {
    "colab": {
     "base_uri": "https://localhost:8080/",
     "height": 600
    },
    "colab_type": "code",
    "executionInfo": {
     "elapsed": 47813,
     "status": "ok",
     "timestamp": 1554214157621,
     "user": {
      "displayName": "Afroz Loya",
      "photoUrl": "",
      "userId": "13652725819490475431"
     },
     "user_tz": -330
    },
    "id": "W7dYNiUNGTUm",
    "outputId": "57148880-b6cf-4f92-a7d3-fd0061afd26c"
   },
   "outputs": [],
   "source": [
    "model = Sequential([\n",
    "    Flatten(input_shape=(28, 28)),\n",
    "    Dropout(0.25),\n",
    "    Dense(512, activation=tf.nn.relu),\n",
    "    Dropout(0.25),    \n",
    "    Dense(256, activation=tf.nn.relu),\n",
    "    Dropout(0.25),\n",
    "    Dense(10, activation=tf.nn.softmax)\n",
    "])\n",
    "\n",
    "model.compile(optimizer='adam',loss='sparse_categorical_crossentropy', metrics=['accuracy'])"
   ]
  },
  {
   "cell_type": "code",
   "execution_count": 3,
   "metadata": {},
   "outputs": [],
   "source": [
    "import os\n",
    "fn = os.getcwd() + \"\\\\\" +  \"mymodel-dig.h5\"  \n",
    "model.load_weights(fn)"
   ]
  },
  {
   "cell_type": "code",
   "execution_count": 0,
   "metadata": {
    "colab": {},
    "colab_type": "code",
    "id": "Q_81gifsGkN-"
   },
   "outputs": [],
   "source": [
    "fn =  \"mymodel.h5\"\n",
    "model.save_weights(fn)"
   ]
  },
  {
   "cell_type": "code",
   "execution_count": 6,
   "metadata": {
    "colab": {
     "base_uri": "https://localhost:8080/",
     "height": 400
    },
    "colab_type": "code",
    "executionInfo": {
     "elapsed": 2227,
     "status": "ok",
     "timestamp": 1554216223196,
     "user": {
      "displayName": "Afroz Loya",
      "photoUrl": "",
      "userId": "13652725819490475431"
     },
     "user_tz": -330
    },
    "id": "d__ngef9HV3I",
    "outputId": "854d40df-28c8-402e-ab83-943b7b0283ae"
   },
   "outputs": [
    {
     "data": {
      "image/png": "[encoded data removed]",
      "text/plain": [
       "<Figure size 432x288 with 1 Axes>"
      ]
     },
     "metadata": {},
     "output_type": "display_data"
    },
    {
     "name": "stdout",
     "output_type": "stream",
     "text": [
      "[5]\n",
      "[[0.03972494 0.04050328 0.03437597 0.10870641 0.04576951 0.27795967\n",
      "  0.12343015 0.02858047 0.17637272 0.12457698]]\n"
     ]
    }
   ],
   "source": [
    "import cv2\n",
    "gray = cv2.imread(\"6.png\", cv2.IMREAD_GRAYSCALE)\n",
    "gray = cv2.resize(255-gray, (28, 28))\n",
    "gray = gray/255\n",
    "plt.imshow(gray, cmap=plt.get_cmap('gray'))\n",
    "plt.show()\n",
    "pr = model.predict_classes(gray.reshape(1, 28, 28))\n",
    "print(pr)\n",
    "pr = model.predict(gray.reshape(1, 28, 28))\n",
    "print(pr)\n",
    "\n"
   ]
  },
  {
   "cell_type": "code",
   "execution_count": 0,
   "metadata": {
    "colab": {},
    "colab_type": "code",
    "id": "CByzR_HdISYC"
   },
   "outputs": [],
   "source": []
  }
 ],
 "metadata": {
  "accelerator": "GPU",
  "colab": {
   "collapsed_sections": [],
   "name": "MyDigREC.ipynb",
   "provenance": [
    {
     "file_id": "1AVkGZBWzGowNAg4nRvddRzrAY-CkryKA",
     "timestamp": 1554213838093
    }
   ],
   "version": "0.3.2"
  },
  "kernelspec": {
   "display_name": "Python 3",
   "language": "python",
   "name": "python3"
  },
  "language_info": {
   "codemirror_mode": {
    "name": "ipython",
    "version": 3
   },
   "file_extension": ".py",
   "mimetype": "text/x-python",
   "name": "python",
   "nbconvert_exporter": "python",
   "pygments_lexer": "ipython3",
   "version": "3.6.5"
  }
 },
 "nbformat": 4,
 "nbformat_minor": 1
}
