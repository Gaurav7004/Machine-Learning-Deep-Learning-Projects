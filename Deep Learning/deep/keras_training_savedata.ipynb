{
 "cells": [
  {
   "cell_type": "code",
   "execution_count": 0,
   "metadata": {
    "colab": {},
    "colab_type": "code",
    "id": "FHoH-r-fUiKq"
   },
   "outputs": [],
   "source": [
    "from __future__ import absolute_import, division, print_function\n",
    "\n",
    "# TensorFlow and tf.keras\n",
    "import tensorflow as tf\n",
    "from tensorflow import keras\n",
    "\n",
    "# Helper libraries\n",
    "import numpy as np\n",
    "import matplotlib.pyplot as plt\n"
   ]
  },
  {
   "cell_type": "code",
   "execution_count": 0,
   "metadata": {
    "colab": {},
    "colab_type": "code",
    "id": "a1uFgkbrUjZY"
   },
   "outputs": [],
   "source": [
    "fashion_mnist = keras.datasets.fashion_mnist\n",
    "\n",
    "(train_images, train_labels), (test_images, test_labels) = fashion_mnist.load_data()"
   ]
  },
  {
   "cell_type": "code",
   "execution_count": 0,
   "metadata": {
    "colab": {},
    "colab_type": "code",
    "id": "QQ1w29lc0Dak"
   },
   "outputs": [],
   "source": [
    "# print(np.min(train_images[0]))\n",
    "# print(np.max(train_images[0]))"
   ]
  },
  {
   "cell_type": "code",
   "execution_count": 0,
   "metadata": {
    "colab": {},
    "colab_type": "code",
    "id": "BbcsAWVVUsqW"
   },
   "outputs": [],
   "source": [
    "class_names = ['T-shirt/top', 'Trouser', 'Pullover', 'Dress', 'Coat', \n",
    "               'Sandal', 'Shirt', 'Sneaker', 'Bag', 'Ankle boot']"
   ]
  },
  {
   "cell_type": "code",
   "execution_count": 0,
   "metadata": {
    "colab": {},
    "colab_type": "code",
    "id": "YMrRq-yNV6bP"
   },
   "outputs": [],
   "source": [
    "# train_images.shape"
   ]
  },
  {
   "cell_type": "code",
   "execution_count": 0,
   "metadata": {
    "colab": {},
    "colab_type": "code",
    "id": "fjubKHOZV9U9"
   },
   "outputs": [],
   "source": [
    "# len(train_labels)"
   ]
  },
  {
   "cell_type": "code",
   "execution_count": 0,
   "metadata": {
    "colab": {},
    "colab_type": "code",
    "id": "VBCXhh5AV_kD"
   },
   "outputs": [],
   "source": [
    "# train_labels"
   ]
  },
  {
   "cell_type": "code",
   "execution_count": 0,
   "metadata": {
    "colab": {},
    "colab_type": "code",
    "id": "_DoqerPeWFAJ"
   },
   "outputs": [],
   "source": [
    "# test_images.shape"
   ]
  },
  {
   "cell_type": "code",
   "execution_count": 0,
   "metadata": {
    "colab": {},
    "colab_type": "code",
    "id": "Hn9EomDdWK_2"
   },
   "outputs": [],
   "source": [
    "# len(test_labels)"
   ]
  },
  {
   "cell_type": "code",
   "execution_count": 0,
   "metadata": {
    "colab": {},
    "colab_type": "code",
    "id": "D37qfihCWNLL"
   },
   "outputs": [],
   "source": [
    "# plt.imshow(test_images[0])\n",
    "# plt.colorbar()"
   ]
  },
  {
   "cell_type": "code",
   "execution_count": 0,
   "metadata": {
    "colab": {},
    "colab_type": "code",
    "id": "1VBvJP98WRUV"
   },
   "outputs": [],
   "source": [
    "train_images = train_images / 255.0\n",
    "\n",
    "test_images = test_images / 255.0"
   ]
  },
  {
   "cell_type": "code",
   "execution_count": 0,
   "metadata": {
    "colab": {},
    "colab_type": "code",
    "id": "Nl8y6SaQWZAN"
   },
   "outputs": [],
   "source": [
    "# plt.figure(figsize=(10,10))\n",
    "# for i in range(25):\n",
    "#     plt.subplot(5,5,i+1)\n",
    "#     plt.xticks([])\n",
    "#     plt.yticks([])\n",
    "#     plt.grid(False)\n",
    "#     plt.imshow(train_images[i], cmap=plt.cm.binary)\n",
    "#     plt.xlabel(class_names[train_labels[i]])\n",
    "# plt.show()"
   ]
  },
  {
   "cell_type": "code",
   "execution_count": 0,
   "metadata": {
    "colab": {},
    "colab_type": "code",
    "id": "_EcnZaDXWb0x"
   },
   "outputs": [],
   "source": [
    "model = keras.Sequential([\n",
    "    keras.layers.Flatten(input_shape=(28, 28)),\n",
    "    keras.layers.Dense(128, activation=tf.nn.relu),\n",
    "    keras.layers.Dense(10, activation=tf.nn.softmax)\n",
    "])"
   ]
  },
  {
   "cell_type": "code",
   "execution_count": 0,
   "metadata": {
    "colab": {},
    "colab_type": "code",
    "id": "AnBMnmc6Wnqw"
   },
   "outputs": [],
   "source": [
    "model.compile(optimizer='adam', \n",
    "              loss='sparse_categorical_crossentropy',\n",
    "              metrics=['accuracy'])"
   ]
  },
  {
   "cell_type": "code",
   "execution_count": 81,
   "metadata": {
    "colab": {
     "base_uri": "https://localhost:8080/",
     "height": 208
    },
    "colab_type": "code",
    "id": "-cNOp6EnWw5m",
    "outputId": "96f7357d-1671-41c2-b5ce-e1970f8715a2"
   },
   "outputs": [
    {
     "name": "stdout",
     "output_type": "stream",
     "text": [
      "Epoch 1/5\n",
      "60000/60000 [==============================] - 8s 129us/sample - loss: 0.4908 - acc: 0.8275\n",
      "Epoch 2/5\n",
      "60000/60000 [==============================] - 8s 131us/sample - loss: 0.3743 - acc: 0.8659\n",
      "Epoch 3/5\n",
      "60000/60000 [==============================] - 9s 145us/sample - loss: 0.3362 - acc: 0.8778\n",
      "Epoch 4/5\n",
      "60000/60000 [==============================] - 8s 127us/sample - loss: 0.3092 - acc: 0.8866\n",
      "Epoch 5/5\n",
      "60000/60000 [==============================] - 7s 125us/sample - loss: 0.2936 - acc: 0.8908\n"
     ]
    },
    {
     "data": {
      "text/plain": [
       "<tensorflow.python.keras.callbacks.History at 0x7f5601846160>"
      ]
     },
     "execution_count": 81,
     "metadata": {
      "tags": []
     },
     "output_type": "execute_result"
    }
   ],
   "source": [
    "model.fit(train_images, train_labels, epochs=5)"
   ]
  },
  {
   "cell_type": "code",
   "execution_count": 82,
   "metadata": {
    "colab": {
     "base_uri": "https://localhost:8080/",
     "height": 52
    },
    "colab_type": "code",
    "id": "Tohjs7C1WzcJ",
    "outputId": "f6461cf7-2937-49aa-c8e9-739f58d651a5"
   },
   "outputs": [
    {
     "name": "stdout",
     "output_type": "stream",
     "text": [
      "10000/10000 [==============================] - 0s 50us/sample - loss: 0.3467 - acc: 0.8754\n",
      "Test accuracy: 0.8754\n"
     ]
    }
   ],
   "source": [
    "test_loss, test_acc = model.evaluate(test_images, test_labels)\n",
    "\n",
    "print('Test accuracy:', test_acc)"
   ]
  },
  {
   "cell_type": "code",
   "execution_count": 0,
   "metadata": {
    "colab": {},
    "colab_type": "code",
    "id": "Gin1px8IXBHR"
   },
   "outputs": [],
   "source": [
    "predictions = model.predict(test_images)"
   ]
  },
  {
   "cell_type": "code",
   "execution_count": 85,
   "metadata": {
    "colab": {
     "base_uri": "https://localhost:8080/",
     "height": 69
    },
    "colab_type": "code",
    "id": "QnkuMzdOXD1e",
    "outputId": "7c88eb95-e0e0-406c-d4ad-2438676f1922"
   },
   "outputs": [
    {
     "data": {
      "text/plain": [
       "array([4.9693944e-07, 4.8559845e-10, 7.0224303e-08, 9.4042932e-08,\n",
       "       2.9298642e-08, 1.3849656e-03, 1.7050621e-07, 6.1316904e-02,\n",
       "       3.7748252e-06, 9.3729347e-01], dtype=float32)"
      ]
     },
     "execution_count": 85,
     "metadata": {
      "tags": []
     },
     "output_type": "execute_result"
    }
   ],
   "source": [
    "predictions[0]"
   ]
  },
  {
   "cell_type": "code",
   "execution_count": 86,
   "metadata": {
    "colab": {
     "base_uri": "https://localhost:8080/",
     "height": 35
    },
    "colab_type": "code",
    "id": "BdXQjlKMXGFV",
    "outputId": "81a9c4f2-05d9-4928-8a41-4815b4670820"
   },
   "outputs": [
    {
     "data": {
      "text/plain": [
       "9"
      ]
     },
     "execution_count": 86,
     "metadata": {
      "tags": []
     },
     "output_type": "execute_result"
    }
   ],
   "source": [
    "np.argmax(predictions[0])"
   ]
  },
  {
   "cell_type": "code",
   "execution_count": 87,
   "metadata": {
    "colab": {
     "base_uri": "https://localhost:8080/",
     "height": 35
    },
    "colab_type": "code",
    "id": "demY47eEXPye",
    "outputId": "504efce9-09f5-45e8-8a7d-5b4bf6c4d1db"
   },
   "outputs": [
    {
     "data": {
      "text/plain": [
       "9"
      ]
     },
     "execution_count": 87,
     "metadata": {
      "tags": []
     },
     "output_type": "execute_result"
    }
   ],
   "source": [
    "test_labels[0]"
   ]
  },
  {
   "cell_type": "code",
   "execution_count": 0,
   "metadata": {
    "colab": {},
    "colab_type": "code",
    "id": "CwVcaNj2XVK3"
   },
   "outputs": [],
   "source": [
    "## Data Sc\n",
    "# def plot_image(i, predictions_array, true_label, img):\n",
    "#   predictions_array, true_label, img = predictions_array[i], true_label[i], img[i]\n",
    "#   plt.grid(False)\n",
    "#   plt.xticks([])\n",
    "#   plt.yticks([])\n",
    "  \n",
    "#   plt.imshow(img, cmap=plt.cm.binary)\n",
    "\n",
    "#   predicted_label = np.argmax(predictions_array)\n",
    "#   if predicted_label == true_label:\n",
    "#     color = 'blue'\n",
    "#   else:\n",
    "#     color = 'red'\n",
    "  \n",
    "#   plt.xlabel(\"{} {:2.0f}% ({})\".format(class_names[predicted_label],\n",
    "#                                 100*np.max(predictions_array),\n",
    "#                                 class_names[true_label]),\n",
    "#                                 color=color)\n",
    "\n",
    "# def plot_value_array(i, predictions_array, true_label):\n",
    "#   predictions_array, true_label = predictions_array[i], true_label[i]\n",
    "#   plt.grid(False)\n",
    "#   plt.xticks([])\n",
    "#   plt.yticks([])\n",
    "#   thisplot = plt.bar(range(10), predictions_array, color=\"#777777\")\n",
    "#   plt.ylim([0, 1]) \n",
    "#   predicted_label = np.argmax(predictions_array) \n",
    "#   thisplot[predicted_label].set_color('red')\n",
    "#   thisplot[true_label].set_color('blue')"
   ]
  },
  {
   "cell_type": "code",
   "execution_count": 89,
   "metadata": {
    "colab": {
     "base_uri": "https://localhost:8080/",
     "height": 203
    },
    "colab_type": "code",
    "id": "_bw41D7uXcrj",
    "outputId": "e9a53fe2-9a23-4a87-90a8-de9004e3f6d2"
   },
   "outputs": [
    {
     "data": {
      "image/png": "[encoded data removed]",
      "text/plain": [
       "<Figure size 432x216 with 2 Axes>"
      ]
     },
     "metadata": {
      "tags": []
     },
     "output_type": "display_data"
    }
   ],
   "source": [
    "## Data Sc\n",
    "# i = 0\n",
    "# plt.figure(figsize=(6,3))\n",
    "# plt.subplot(1,2,1)\n",
    "# plot_image(i, predictions, test_labels, test_images)\n",
    "# plt.subplot(1,2,2)\n",
    "# plot_value_array(i, predictions,  test_labels)\n",
    "# plt.show()"
   ]
  },
  {
   "cell_type": "code",
   "execution_count": 90,
   "metadata": {
    "colab": {
     "base_uri": "https://localhost:8080/",
     "height": 203
    },
    "colab_type": "code",
    "id": "rxef0vb6XkuA",
    "outputId": "f4f086d4-6f1c-4c36-ba67-ab3eea27d3b3"
   },
   "outputs": [
    {
     "data": {
      "image/png": "[encoded data removed]",
      "text/plain": [
       "<Figure size 432x216 with 2 Axes>"
      ]
     },
     "metadata": {
      "tags": []
     },
     "output_type": "display_data"
    }
   ],
   "source": [
    "## Data Sc\n",
    "# i = 12\n",
    "# plt.figure(figsize=(6,3))\n",
    "# plt.subplot(1,2,1)\n",
    "# plot_image(i, predictions, test_labels, test_images)\n",
    "# plt.subplot(1,2,2)\n",
    "# plot_value_array(i, predictions,  test_labels)\n",
    "# plt.show()"
   ]
  },
  {
   "cell_type": "code",
   "execution_count": 91,
   "metadata": {
    "colab": {
     "base_uri": "https://localhost:8080/",
     "height": 589
    },
    "colab_type": "code",
    "id": "-6fP5pXKXnXC",
    "outputId": "52d1a1f7-a709-4d33-e37d-d9472b1185d8"
   },
   "outputs": [
    {
     "data": {
      "image/png": "[encoded data removed]",
      "text/plain": [
       "<Figure size 864x720 with 30 Axes>"
      ]
     },
     "metadata": {
      "tags": []
     },
     "output_type": "display_data"
    }
   ],
   "source": [
    "# # Plot the first X test images, their predicted label, and the true label\n",
    "# # Color correct predictions in blue, incorrect predictions in red\n",
    "# ## Data Sc\n",
    "# num_rows = 5\n",
    "# num_cols = 3\n",
    "# num_images = num_rows*num_cols\n",
    "# plt.figure(figsize=(2*2*num_cols, 2*num_rows))\n",
    "# for i in range(num_images):\n",
    "#   plt.subplot(num_rows, 2*num_cols, 2*i+1)\n",
    "#   plot_image(i, predictions, test_labels, test_images)\n",
    "#   plt.subplot(num_rows, 2*num_cols, 2*i+2)\n",
    "#   plot_value_array(i, predictions, test_labels)\n",
    "# plt.show()"
   ]
  },
  {
   "cell_type": "code",
   "execution_count": 0,
   "metadata": {
    "colab": {
     "base_uri": "https://localhost:8080/",
     "height": 35
    },
    "colab_type": "code",
    "id": "FqdZeErgX7Qr",
    "outputId": "7ea225c3-88b5-465a-ff97-8754ec7126ef"
   },
   "outputs": [
    {
     "name": "stdout",
     "output_type": "stream",
     "text": [
      "(28, 28)\n"
     ]
    }
   ],
   "source": [
    "# # Grab an image from the test dataset\n",
    "# img = test_images[0]\n",
    "\n",
    "# print(img.shape)"
   ]
  },
  {
   "cell_type": "code",
   "execution_count": 0,
   "metadata": {
    "colab": {
     "base_uri": "https://localhost:8080/",
     "height": 35
    },
    "colab_type": "code",
    "id": "7SlR2TPaXsr6",
    "outputId": "3a945ce9-16b8-4424-9651-fa9b7e33577e"
   },
   "outputs": [
    {
     "name": "stdout",
     "output_type": "stream",
     "text": [
      "(1, 28, 28)\n"
     ]
    }
   ],
   "source": [
    "# # Add the image to a batch where it's the only member.\n",
    "# img = (np.expand_dims(img,0))\n",
    "\n",
    "# print(img.shape)"
   ]
  },
  {
   "cell_type": "code",
   "execution_count": 0,
   "metadata": {
    "colab": {
     "base_uri": "https://localhost:8080/",
     "height": 52
    },
    "colab_type": "code",
    "id": "au5PW3gkX-1Q",
    "outputId": "7f274087-36a8-4ff1-9ab1-f667e8be3b34"
   },
   "outputs": [
    {
     "name": "stdout",
     "output_type": "stream",
     "text": [
      "[[5.4583761e-06 7.8930448e-08 8.2865057e-07 3.1220797e-08 8.2974032e-07\n",
      "  2.2999840e-03 1.2464071e-05 2.3323400e-03 1.8383322e-05 9.9532962e-01]]\n"
     ]
    }
   ],
   "source": [
    "# predictions_single = model.predict(img)\n",
    "\n",
    "# print(predictions_single)"
   ]
  },
  {
   "cell_type": "code",
   "execution_count": 0,
   "metadata": {
    "colab": {},
    "colab_type": "code",
    "id": "eGgtU0uRYBhc"
   },
   "outputs": [],
   "source": [
    "# plot_value_array(0, predictions_single, test_labels)\n",
    "# _ = plt.xticks(range(10), class_names, rotation=45)"
   ]
  },
  {
   "cell_type": "code",
   "execution_count": 0,
   "metadata": {
    "colab": {},
    "colab_type": "code",
    "id": "vklFgbGdYEZW"
   },
   "outputs": [],
   "source": [
    "# np.argmax(predictions_single[0])"
   ]
  },
  {
   "cell_type": "code",
   "execution_count": 95,
   "metadata": {
    "colab": {
     "base_uri": "https://localhost:8080/",
     "height": 52
    },
    "colab_type": "code",
    "id": "xj9cRqZFYHRh",
    "outputId": "8668f36a-d3b7-48ed-c6a6-f32007998803"
   },
   "outputs": [
    {
     "name": "stdout",
     "output_type": "stream",
     "text": [
      "[4]\n",
      "Coat\n"
     ]
    }
   ],
   "source": [
    "import cv2\n",
    "gray = cv2.imread(\"coat.jpg\", cv2.IMREAD_GRAYSCALE)\n",
    "gray = cv2.resize(255-gray, (28, 28))\n",
    "gray = gray/255\n",
    "pr = model.predict_classes(gray.reshape(1, 28, 28))\n",
    "print(pr)\n",
    "print(class_names[pr[0]])\n"
   ]
  },
  {
   "cell_type": "code",
   "execution_count": 0,
   "metadata": {
    "colab": {},
    "colab_type": "code",
    "id": "V194K7_uyjtv"
   },
   "outputs": [],
   "source": [
    "# plt.imshow(gray)\n",
    "# plt.colorbar()"
   ]
  },
  {
   "cell_type": "code",
   "execution_count": 0,
   "metadata": {
    "colab": {},
    "colab_type": "code",
    "id": "bu1Mxo7_zvHf"
   },
   "outputs": [],
   "source": [
    "fn =  \"mymodel.h5\"\n",
    "model.save_weights(fn)"
   ]
  }
 ],
 "metadata": {
  "accelerator": "TPU",
  "colab": {
   "collapsed_sections": [],
   "name": "keras_training_savedata.ipynb",
   "provenance": [],
   "version": "0.3.2"
  },
  "kernelspec": {
   "display_name": "Python 3",
   "language": "python",
   "name": "python3"
  },
  "language_info": {
   "codemirror_mode": {
    "name": "ipython",
    "version": 3
   },
   "file_extension": ".py",
   "mimetype": "text/x-python",
   "name": "python",
   "nbconvert_exporter": "python",
   "pygments_lexer": "ipython3",
   "version": "3.6.5"
  }
 },
 "nbformat": 4,
 "nbformat_minor": 1
}
