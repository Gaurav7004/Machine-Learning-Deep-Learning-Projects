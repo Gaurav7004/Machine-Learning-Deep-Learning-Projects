{
  "nbformat": 4,
  "nbformat_minor": 0,
  "metadata": {
    "kernelspec": {
      "name": "python3",
      "display_name": "Python 3"
    },
    "language_info": {
      "codemirror_mode": {
        "name": "ipython",
        "version": 3
      },
      "file_extension": ".py",
      "mimetype": "text/x-python",
      "name": "python",
      "nbconvert_exporter": "python",
      "pygments_lexer": "ipython3",
      "version": "3.7.3"
    },
    "colab": {
      "name": "Text_Analysis_Assignment.ipynb",
      "provenance": [],
      "include_colab_link": true
    },
    "accelerator": "TPU"
  },
  "cells": [
    {
      "cell_type": "markdown",
      "metadata": {
        "id": "view-in-github",
        "colab_type": "text"
      },
      "source": [
        "<a href=\"https://colab.research.google.com/github/Gaurav7004/Machine-Learning-Projects/blob/master/Text_Analysis_Assignment.ipynb\" target=\"_parent\"><img src=\"https://colab.research.google.com/assets/colab-badge.svg\" alt=\"Open In Colab\"/></a>"
      ]
    },
    {
      "cell_type": "code",
      "metadata": {
        "id": "zJyVnpj9Ma2J",
        "colab_type": "code",
        "colab": {}
      },
      "source": [
        "!pip install -U -q PyDrive"
      ],
      "execution_count": 0,
      "outputs": []
    },
    {
      "cell_type": "code",
      "metadata": {
        "id": "qeCFNuKfMa2a",
        "colab_type": "code",
        "colab": {}
      },
      "source": [
        "from pydrive.auth import GoogleAuth\n",
        "from pydrive.drive import GoogleDrive\n",
        "from google.colab import auth\n",
        "from oauth2client.client import GoogleCredentials"
      ],
      "execution_count": 0,
      "outputs": []
    },
    {
      "cell_type": "code",
      "metadata": {
        "id": "M2rTUdPtOU-3",
        "colab_type": "code",
        "colab": {}
      },
      "source": [
        "auth.authenticate_user()\n",
        "gauth = GoogleAuth()\n",
        "gauth.credentials = GoogleCredentials.get_application_default()\n",
        "drive = GoogleDrive(gauth)\n"
      ],
      "execution_count": 0,
      "outputs": []
    },
    {
      "cell_type": "code",
      "metadata": {
        "id": "lulMoy2RMa2p",
        "colab_type": "code",
        "colab": {}
      },
      "source": [
        "import pandas as pd\n",
        "import numpy as np"
      ],
      "execution_count": 0,
      "outputs": []
    },
    {
      "cell_type": "code",
      "metadata": {
        "id": "QELiJYHzNVND",
        "colab_type": "code",
        "colab": {}
      },
      "source": [
        ""
      ],
      "execution_count": 0,
      "outputs": []
    },
    {
      "cell_type": "code",
      "metadata": {
        "id": "HykqPzSWMa2z",
        "colab_type": "code",
        "outputId": "7640a6f4-2837-4543-cf5f-5cfaba1d2fac",
        "colab": {
          "base_uri": "https://localhost:8080/",
          "height": 34
        }
      },
      "source": [
        "cik_list = pd.read_excel(\"./cik_list.xlsx\")\n",
        "max_row, max_col = cik_list.shape\n",
        "max_row\n"
      ],
      "execution_count": 0,
      "outputs": [
        {
          "output_type": "execute_result",
          "data": {
            "text/plain": [
              "152"
            ]
          },
          "metadata": {
            "tags": []
          },
          "execution_count": 5
        }
      ]
    },
    {
      "cell_type": "code",
      "metadata": {
        "id": "6g5b0ISmMa2-",
        "colab_type": "code",
        "outputId": "2e6069f4-39dc-461b-f95c-21f5a85a1185",
        "colab": {
          "base_uri": "https://localhost:8080/",
          "height": 206
        }
      },
      "source": [
        "cik_list.head()\n"
      ],
      "execution_count": 0,
      "outputs": [
        {
          "output_type": "execute_result",
          "data": {
            "text/html": [
              "<div>\n",
              "<style scoped>\n",
              "    .dataframe tbody tr th:only-of-type {\n",
              "        vertical-align: middle;\n",
              "    }\n",
              "\n",
              "    .dataframe tbody tr th {\n",
              "        vertical-align: top;\n",
              "    }\n",
              "\n",
              "    .dataframe thead th {\n",
              "        text-align: right;\n",
              "    }\n",
              "</style>\n",
              "<table border=\"1\" class=\"dataframe\">\n",
              "  <thead>\n",
              "    <tr style=\"text-align: right;\">\n",
              "      <th></th>\n",
              "      <th>CIK</th>\n",
              "      <th>CONAME</th>\n",
              "      <th>FYRMO</th>\n",
              "      <th>FDATE</th>\n",
              "      <th>FORM</th>\n",
              "      <th>SECFNAME</th>\n",
              "    </tr>\n",
              "  </thead>\n",
              "  <tbody>\n",
              "    <tr>\n",
              "      <th>0</th>\n",
              "      <td>3662</td>\n",
              "      <td>SUNBEAM CORP/FL/</td>\n",
              "      <td>199803</td>\n",
              "      <td>1998-03-06</td>\n",
              "      <td>10-K405</td>\n",
              "      <td>edgar/data/3662/0000950170-98-000413.txt</td>\n",
              "    </tr>\n",
              "    <tr>\n",
              "      <th>1</th>\n",
              "      <td>3662</td>\n",
              "      <td>SUNBEAM CORP/FL/</td>\n",
              "      <td>199805</td>\n",
              "      <td>1998-05-15</td>\n",
              "      <td>10-Q</td>\n",
              "      <td>edgar/data/3662/0000950170-98-001001.txt</td>\n",
              "    </tr>\n",
              "    <tr>\n",
              "      <th>2</th>\n",
              "      <td>3662</td>\n",
              "      <td>SUNBEAM CORP/FL/</td>\n",
              "      <td>199808</td>\n",
              "      <td>1998-08-13</td>\n",
              "      <td>NT 10-Q</td>\n",
              "      <td>edgar/data/3662/0000950172-98-000783.txt</td>\n",
              "    </tr>\n",
              "    <tr>\n",
              "      <th>3</th>\n",
              "      <td>3662</td>\n",
              "      <td>SUNBEAM CORP/FL/</td>\n",
              "      <td>199811</td>\n",
              "      <td>1998-11-12</td>\n",
              "      <td>10-K/A</td>\n",
              "      <td>edgar/data/3662/0000950170-98-002145.txt</td>\n",
              "    </tr>\n",
              "    <tr>\n",
              "      <th>4</th>\n",
              "      <td>3662</td>\n",
              "      <td>SUNBEAM CORP/FL/</td>\n",
              "      <td>199811</td>\n",
              "      <td>1998-11-16</td>\n",
              "      <td>NT 10-Q</td>\n",
              "      <td>edgar/data/3662/0000950172-98-001203.txt</td>\n",
              "    </tr>\n",
              "  </tbody>\n",
              "</table>\n",
              "</div>"
            ],
            "text/plain": [
              "    CIK            CONAME  ...     FORM                                  SECFNAME\n",
              "0  3662  SUNBEAM CORP/FL/  ...  10-K405  edgar/data/3662/0000950170-98-000413.txt\n",
              "1  3662  SUNBEAM CORP/FL/  ...     10-Q  edgar/data/3662/0000950170-98-001001.txt\n",
              "2  3662  SUNBEAM CORP/FL/  ...  NT 10-Q  edgar/data/3662/0000950172-98-000783.txt\n",
              "3  3662  SUNBEAM CORP/FL/  ...   10-K/A  edgar/data/3662/0000950170-98-002145.txt\n",
              "4  3662  SUNBEAM CORP/FL/  ...  NT 10-Q  edgar/data/3662/0000950172-98-001203.txt\n",
              "\n",
              "[5 rows x 6 columns]"
            ]
          },
          "metadata": {
            "tags": []
          },
          "execution_count": 6
        }
      ]
    },
    {
      "cell_type": "code",
      "metadata": {
        "id": "JZhwsH8TMa3I",
        "colab_type": "code",
        "outputId": "af18a046-ba50-41da-9634-9f4c87fe1e22",
        "colab": {
          "base_uri": "https://localhost:8080/",
          "height": 206
        }
      },
      "source": [
        "pd.set_option('display.max_colwidth',100) \n",
        "cik_list.head()\n"
      ],
      "execution_count": 0,
      "outputs": [
        {
          "output_type": "execute_result",
          "data": {
            "text/html": [
              "<div>\n",
              "<style scoped>\n",
              "    .dataframe tbody tr th:only-of-type {\n",
              "        vertical-align: middle;\n",
              "    }\n",
              "\n",
              "    .dataframe tbody tr th {\n",
              "        vertical-align: top;\n",
              "    }\n",
              "\n",
              "    .dataframe thead th {\n",
              "        text-align: right;\n",
              "    }\n",
              "</style>\n",
              "<table border=\"1\" class=\"dataframe\">\n",
              "  <thead>\n",
              "    <tr style=\"text-align: right;\">\n",
              "      <th></th>\n",
              "      <th>CIK</th>\n",
              "      <th>CONAME</th>\n",
              "      <th>FYRMO</th>\n",
              "      <th>FDATE</th>\n",
              "      <th>FORM</th>\n",
              "      <th>SECFNAME</th>\n",
              "    </tr>\n",
              "  </thead>\n",
              "  <tbody>\n",
              "    <tr>\n",
              "      <th>0</th>\n",
              "      <td>3662</td>\n",
              "      <td>SUNBEAM CORP/FL/</td>\n",
              "      <td>199803</td>\n",
              "      <td>1998-03-06</td>\n",
              "      <td>10-K405</td>\n",
              "      <td>edgar/data/3662/0000950170-98-000413.txt</td>\n",
              "    </tr>\n",
              "    <tr>\n",
              "      <th>1</th>\n",
              "      <td>3662</td>\n",
              "      <td>SUNBEAM CORP/FL/</td>\n",
              "      <td>199805</td>\n",
              "      <td>1998-05-15</td>\n",
              "      <td>10-Q</td>\n",
              "      <td>edgar/data/3662/0000950170-98-001001.txt</td>\n",
              "    </tr>\n",
              "    <tr>\n",
              "      <th>2</th>\n",
              "      <td>3662</td>\n",
              "      <td>SUNBEAM CORP/FL/</td>\n",
              "      <td>199808</td>\n",
              "      <td>1998-08-13</td>\n",
              "      <td>NT 10-Q</td>\n",
              "      <td>edgar/data/3662/0000950172-98-000783.txt</td>\n",
              "    </tr>\n",
              "    <tr>\n",
              "      <th>3</th>\n",
              "      <td>3662</td>\n",
              "      <td>SUNBEAM CORP/FL/</td>\n",
              "      <td>199811</td>\n",
              "      <td>1998-11-12</td>\n",
              "      <td>10-K/A</td>\n",
              "      <td>edgar/data/3662/0000950170-98-002145.txt</td>\n",
              "    </tr>\n",
              "    <tr>\n",
              "      <th>4</th>\n",
              "      <td>3662</td>\n",
              "      <td>SUNBEAM CORP/FL/</td>\n",
              "      <td>199811</td>\n",
              "      <td>1998-11-16</td>\n",
              "      <td>NT 10-Q</td>\n",
              "      <td>edgar/data/3662/0000950172-98-001203.txt</td>\n",
              "    </tr>\n",
              "  </tbody>\n",
              "</table>\n",
              "</div>"
            ],
            "text/plain": [
              "    CIK            CONAME  ...     FORM                                  SECFNAME\n",
              "0  3662  SUNBEAM CORP/FL/  ...  10-K405  edgar/data/3662/0000950170-98-000413.txt\n",
              "1  3662  SUNBEAM CORP/FL/  ...     10-Q  edgar/data/3662/0000950170-98-001001.txt\n",
              "2  3662  SUNBEAM CORP/FL/  ...  NT 10-Q  edgar/data/3662/0000950172-98-000783.txt\n",
              "3  3662  SUNBEAM CORP/FL/  ...   10-K/A  edgar/data/3662/0000950170-98-002145.txt\n",
              "4  3662  SUNBEAM CORP/FL/  ...  NT 10-Q  edgar/data/3662/0000950172-98-001203.txt\n",
              "\n",
              "[5 rows x 6 columns]"
            ]
          },
          "metadata": {
            "tags": []
          },
          "execution_count": 7
        }
      ]
    },
    {
      "cell_type": "code",
      "metadata": {
        "id": "mIbilfS5Ma3Q",
        "colab_type": "code",
        "outputId": "ad85e656-5787-4464-9ce9-cf089902302b",
        "colab": {
          "base_uri": "https://localhost:8080/",
          "height": 121
        }
      },
      "source": [
        "link = cik_list.SECFNAME\n",
        "addr = 'https://www.sec.gov/Archives/'\n",
        "link =  addr + link\n",
        "link.head()"
      ],
      "execution_count": 0,
      "outputs": [
        {
          "output_type": "execute_result",
          "data": {
            "text/plain": [
              "0    https://www.sec.gov/Archives/edgar/data/3662/0000950170-98-000413.txt\n",
              "1    https://www.sec.gov/Archives/edgar/data/3662/0000950170-98-001001.txt\n",
              "2    https://www.sec.gov/Archives/edgar/data/3662/0000950172-98-000783.txt\n",
              "3    https://www.sec.gov/Archives/edgar/data/3662/0000950170-98-002145.txt\n",
              "4    https://www.sec.gov/Archives/edgar/data/3662/0000950172-98-001203.txt\n",
              "Name: SECFNAME, dtype: object"
            ]
          },
          "metadata": {
            "tags": []
          },
          "execution_count": 37
        }
      ]
    },
    {
      "cell_type": "code",
      "metadata": {
        "id": "dZAJV-d2Ma3Y",
        "colab_type": "code",
        "colab": {}
      },
      "source": [
        "import requests\n",
        "import re, string, unicodedata\n",
        "import nltk\n",
        "from bs4 import BeautifulSoup\n",
        "from nltk import word_tokenize, sent_tokenize\n",
        "from nltk.corpus import stopwords\n",
        "from nltk.stem import LancasterStemmer, WordNetLemmatizer"
      ],
      "execution_count": 0,
      "outputs": []
    },
    {
      "cell_type": "code",
      "metadata": {
        "id": "1kj-mmshMa3g",
        "colab_type": "code",
        "outputId": "9c741f00-a421-44c6-f960-3e7a29280cef",
        "colab": {
          "base_uri": "https://localhost:8080/",
          "height": 104
        }
      },
      "source": [
        "nltk.download('stopwords')\n",
        "nltk.download('punkt')"
      ],
      "execution_count": 0,
      "outputs": [
        {
          "output_type": "stream",
          "text": [
            "[nltk_data] Downloading package stopwords to /root/nltk_data...\n",
            "[nltk_data]   Package stopwords is already up-to-date!\n",
            "[nltk_data] Downloading package punkt to /root/nltk_data...\n",
            "[nltk_data]   Package punkt is already up-to-date!\n"
          ],
          "name": "stdout"
        },
        {
          "output_type": "execute_result",
          "data": {
            "text/plain": [
              "True"
            ]
          },
          "metadata": {
            "tags": []
          },
          "execution_count": 10
        }
      ]
    },
    {
      "cell_type": "code",
      "metadata": {
        "id": "odhrm3QsMa3o",
        "colab_type": "code",
        "outputId": "f5e28899-3222-4b0a-9805-9fd3e9cd947a",
        "colab": {
          "base_uri": "https://localhost:8080/",
          "height": 1000
        }
      },
      "source": [
        "stopset = set(w.upper() for w in stopwords.words('english'))\n",
        "stopset"
      ],
      "execution_count": 0,
      "outputs": [
        {
          "output_type": "execute_result",
          "data": {
            "text/plain": [
              "{'A',\n",
              " 'ABOUT',\n",
              " 'ABOVE',\n",
              " 'AFTER',\n",
              " 'AGAIN',\n",
              " 'AGAINST',\n",
              " 'AIN',\n",
              " 'ALL',\n",
              " 'AM',\n",
              " 'AN',\n",
              " 'AND',\n",
              " 'ANY',\n",
              " 'ARE',\n",
              " 'AREN',\n",
              " \"AREN'T\",\n",
              " 'AS',\n",
              " 'AT',\n",
              " 'BE',\n",
              " 'BECAUSE',\n",
              " 'BEEN',\n",
              " 'BEFORE',\n",
              " 'BEING',\n",
              " 'BELOW',\n",
              " 'BETWEEN',\n",
              " 'BOTH',\n",
              " 'BUT',\n",
              " 'BY',\n",
              " 'CAN',\n",
              " 'COULDN',\n",
              " \"COULDN'T\",\n",
              " 'D',\n",
              " 'DID',\n",
              " 'DIDN',\n",
              " \"DIDN'T\",\n",
              " 'DO',\n",
              " 'DOES',\n",
              " 'DOESN',\n",
              " \"DOESN'T\",\n",
              " 'DOING',\n",
              " 'DON',\n",
              " \"DON'T\",\n",
              " 'DOWN',\n",
              " 'DURING',\n",
              " 'EACH',\n",
              " 'FEW',\n",
              " 'FOR',\n",
              " 'FROM',\n",
              " 'FURTHER',\n",
              " 'HAD',\n",
              " 'HADN',\n",
              " \"HADN'T\",\n",
              " 'HAS',\n",
              " 'HASN',\n",
              " \"HASN'T\",\n",
              " 'HAVE',\n",
              " 'HAVEN',\n",
              " \"HAVEN'T\",\n",
              " 'HAVING',\n",
              " 'HE',\n",
              " 'HER',\n",
              " 'HERE',\n",
              " 'HERS',\n",
              " 'HERSELF',\n",
              " 'HIM',\n",
              " 'HIMSELF',\n",
              " 'HIS',\n",
              " 'HOW',\n",
              " 'I',\n",
              " 'IF',\n",
              " 'IN',\n",
              " 'INTO',\n",
              " 'IS',\n",
              " 'ISN',\n",
              " \"ISN'T\",\n",
              " 'IT',\n",
              " \"IT'S\",\n",
              " 'ITS',\n",
              " 'ITSELF',\n",
              " 'JUST',\n",
              " 'LL',\n",
              " 'M',\n",
              " 'MA',\n",
              " 'ME',\n",
              " 'MIGHTN',\n",
              " \"MIGHTN'T\",\n",
              " 'MORE',\n",
              " 'MOST',\n",
              " 'MUSTN',\n",
              " \"MUSTN'T\",\n",
              " 'MY',\n",
              " 'MYSELF',\n",
              " 'NEEDN',\n",
              " \"NEEDN'T\",\n",
              " 'NO',\n",
              " 'NOR',\n",
              " 'NOT',\n",
              " 'NOW',\n",
              " 'O',\n",
              " 'OF',\n",
              " 'OFF',\n",
              " 'ON',\n",
              " 'ONCE',\n",
              " 'ONLY',\n",
              " 'OR',\n",
              " 'OTHER',\n",
              " 'OUR',\n",
              " 'OURS',\n",
              " 'OURSELVES',\n",
              " 'OUT',\n",
              " 'OVER',\n",
              " 'OWN',\n",
              " 'RE',\n",
              " 'S',\n",
              " 'SAME',\n",
              " 'SHAN',\n",
              " \"SHAN'T\",\n",
              " 'SHE',\n",
              " \"SHE'S\",\n",
              " 'SHOULD',\n",
              " \"SHOULD'VE\",\n",
              " 'SHOULDN',\n",
              " \"SHOULDN'T\",\n",
              " 'SO',\n",
              " 'SOME',\n",
              " 'SUCH',\n",
              " 'T',\n",
              " 'THAN',\n",
              " 'THAT',\n",
              " \"THAT'LL\",\n",
              " 'THE',\n",
              " 'THEIR',\n",
              " 'THEIRS',\n",
              " 'THEM',\n",
              " 'THEMSELVES',\n",
              " 'THEN',\n",
              " 'THERE',\n",
              " 'THESE',\n",
              " 'THEY',\n",
              " 'THIS',\n",
              " 'THOSE',\n",
              " 'THROUGH',\n",
              " 'TO',\n",
              " 'TOO',\n",
              " 'UNDER',\n",
              " 'UNTIL',\n",
              " 'UP',\n",
              " 'VE',\n",
              " 'VERY',\n",
              " 'WAS',\n",
              " 'WASN',\n",
              " \"WASN'T\",\n",
              " 'WE',\n",
              " 'WERE',\n",
              " 'WEREN',\n",
              " \"WEREN'T\",\n",
              " 'WHAT',\n",
              " 'WHEN',\n",
              " 'WHERE',\n",
              " 'WHICH',\n",
              " 'WHILE',\n",
              " 'WHO',\n",
              " 'WHOM',\n",
              " 'WHY',\n",
              " 'WILL',\n",
              " 'WITH',\n",
              " 'WON',\n",
              " \"WON'T\",\n",
              " 'WOULDN',\n",
              " \"WOULDN'T\",\n",
              " 'Y',\n",
              " 'YOU',\n",
              " \"YOU'D\",\n",
              " \"YOU'LL\",\n",
              " \"YOU'RE\",\n",
              " \"YOU'VE\",\n",
              " 'YOUR',\n",
              " 'YOURS',\n",
              " 'YOURSELF',\n",
              " 'YOURSELVES'}"
            ]
          },
          "metadata": {
            "tags": []
          },
          "execution_count": 11
        }
      ]
    },
    {
      "cell_type": "code",
      "metadata": {
        "id": "tFP17arTMa3y",
        "colab_type": "code",
        "colab": {}
      },
      "source": [
        "import glob\n",
        "path = \"StopWords*.txt\"\n",
        "glob.glob(path)\n",
        "for filename in glob.glob(path):\n",
        "    with open(filename, 'r') as f:\n",
        "        text = f.read()\n",
        "        text = re.sub(r\"\\s+\\|\\s+[\\w]*\" , \"\", text)        \n",
        "        stopset.update(text.upper().split())"
      ],
      "execution_count": 0,
      "outputs": []
    },
    {
      "cell_type": "code",
      "metadata": {
        "id": "8uRmu1K-Ma36",
        "colab_type": "code",
        "outputId": "3e36a265-ceb7-44e4-cb23-b8ad5ad2d033",
        "colab": {
          "base_uri": "https://localhost:8080/",
          "height": 52
        }
      },
      "source": [
        "from nltk.corpus import cmudict\n",
        "nltk.download('cmudict')\n",
        "def syllables(word):\n",
        "    count = 0\n",
        "    vowels = 'aeiouy'\n",
        "    word = word.lower()\n",
        "    if word[0] in vowels:\n",
        "        count +=1\n",
        "    for index in range(1,len(word)):\n",
        "        if word[index] in vowels and word[index-1] not in vowels:\n",
        "            count +=1\n",
        "    if word.endswith('e'):\n",
        "        count -= 1\n",
        "    if word.endswith('le'):\n",
        "        count+=1\n",
        "    if count == 0:\n",
        "        count +=1\n",
        "    return count\n",
        "\n",
        "def nsyl(word):\n",
        "    try:\n",
        "        return max([len(list(y for y in x if y[-1].isdigit())) for x in d[word.lower()]])\n",
        "    except KeyError:\n",
        "        #if word not found in cmudict\n",
        "        return syllables(word)    "
      ],
      "execution_count": 0,
      "outputs": [
        {
          "output_type": "stream",
          "text": [
            "[nltk_data] Downloading package cmudict to /root/nltk_data...\n",
            "[nltk_data]   Package cmudict is already up-to-date!\n"
          ],
          "name": "stdout"
        }
      ]
    },
    {
      "cell_type": "code",
      "metadata": {
        "id": "HL2KlR4SUUSm",
        "colab_type": "code",
        "colab": {}
      },
      "source": [
        "def strip_html(text):\n",
        "    soup = BeautifulSoup(text, \"html.parser\")\n",
        "    return soup.get_text()"
      ],
      "execution_count": 0,
      "outputs": []
    },
    {
      "cell_type": "code",
      "metadata": {
        "id": "orutTt1-Vzpo",
        "colab_type": "code",
        "colab": {}
      },
      "source": [
        "def remove_between_square_brackets(text):\n",
        "    return re.sub('\\[[^]]*\\]', '', text)"
      ],
      "execution_count": 0,
      "outputs": []
    },
    {
      "cell_type": "code",
      "metadata": {
        "id": "B0SBoJsWV3yo",
        "colab_type": "code",
        "colab": {}
      },
      "source": [
        "def remove_digits(text):\n",
        "    return re.sub('[\\d%/$]', '', text)"
      ],
      "execution_count": 0,
      "outputs": []
    },
    {
      "cell_type": "code",
      "metadata": {
        "id": "HGEWMXVfV77o",
        "colab_type": "code",
        "colab": {}
      },
      "source": [
        "def denoise_text(text):\n",
        "    text = strip_html(text)\n",
        "    text = remove_between_square_brackets(text)\n",
        "    text = remove_digits(text)\n",
        "    return text"
      ],
      "execution_count": 0,
      "outputs": []
    },
    {
      "cell_type": "code",
      "metadata": {
        "id": "EKwF-ufsWIlG",
        "colab_type": "code",
        "colab": {}
      },
      "source": [
        "def remove_non_ascii(words):\n",
        "    new_words = []\n",
        "    for word in words:\n",
        "        new_word = unicodedata.normalize('NFKD', word).encode('ascii', 'ignore').decode('utf-8', 'ignore')\n",
        "        new_words.append(new_word)\n",
        "    return new_words"
      ],
      "execution_count": 0,
      "outputs": []
    },
    {
      "cell_type": "code",
      "metadata": {
        "id": "M5cyI7ypWOjH",
        "colab_type": "code",
        "colab": {}
      },
      "source": [
        "def to_upper_case(words):\n",
        "    new_words = []\n",
        "    for word in words:\n",
        "        new_word = word.upper()\n",
        "        new_words.append(new_word)\n",
        "    return new_words"
      ],
      "execution_count": 0,
      "outputs": []
    },
    {
      "cell_type": "code",
      "metadata": {
        "id": "Fa5ngMiMWiJP",
        "colab_type": "code",
        "colab": {}
      },
      "source": [
        "def remove_punctuation(words):\n",
        "    new_words = []\n",
        "    for word in words:\n",
        "        new_word = re.sub(r'[^\\w\\s]', '', word)\n",
        "        if new_word != '':\n",
        "            new_words.append(new_word)\n",
        "    return new_words"
      ],
      "execution_count": 0,
      "outputs": []
    },
    {
      "cell_type": "code",
      "metadata": {
        "id": "jJBCTwgIWpS1",
        "colab_type": "code",
        "colab": {}
      },
      "source": [
        "def remove_stopwords(words):\n",
        "    new_words = []\n",
        "    for word in words:\n",
        "        if word not in stopset:\n",
        "            new_words.append(word)\n",
        "    return new_words"
      ],
      "execution_count": 0,
      "outputs": []
    },
    {
      "cell_type": "code",
      "metadata": {
        "id": "PwSnpZ73Yu2Q",
        "colab_type": "code",
        "colab": {}
      },
      "source": [
        ""
      ],
      "execution_count": 0,
      "outputs": []
    },
    {
      "cell_type": "code",
      "metadata": {
        "id": "9SjJ96YIYQFG",
        "colab_type": "code",
        "colab": {}
      },
      "source": [
        ""
      ],
      "execution_count": 0,
      "outputs": []
    },
    {
      "cell_type": "code",
      "metadata": {
        "id": "x0bc8y_KYwh6",
        "colab_type": "code",
        "colab": {}
      },
      "source": [
        ""
      ],
      "execution_count": 0,
      "outputs": []
    },
    {
      "cell_type": "code",
      "metadata": {
        "id": "753RK9u5cuqJ",
        "colab_type": "code",
        "colab": {}
      },
      "source": [
        "def normalize(words):\n",
        "    words = remove_non_ascii(words)\n",
        "    words = to_upper_case(words)\n",
        "    words = remove_punctuation(words)\n",
        "    words = remove_stopwords(words)\n",
        "    return words"
      ],
      "execution_count": 0,
      "outputs": []
    },
    {
      "cell_type": "code",
      "metadata": {
        "id": "1JwSsC5gc9Ku",
        "colab_type": "code",
        "colab": {}
      },
      "source": [
        ""
      ],
      "execution_count": 0,
      "outputs": []
    },
    {
      "cell_type": "code",
      "metadata": {
        "id": "zygZeEDLdDQ9",
        "colab_type": "code",
        "colab": {}
      },
      "source": [
        "mda = \"Management's Discussion and Analysis\"\n",
        "qqdmr = \"Quantitative and Qualitative Disclosures about Market Risk\"\n",
        "rf = \"Risk Factors\"\n",
        "section_name = ['mda','qqdmr',\"rf\"]\n",
        "section = [mda.upper(),qqdmr.upper(),rf.upper()]\n",
        "variables = ['positive_score','negative_score','polarity_score','average_sentence_length', 'percentage_of_complex_words',\\\n",
        "                   'fog_index','complex_word_count','word_count','uncertainty_score','constraining_score', 'positive_word_proportion',\\\n",
        "                   'negative_word_proportion', 'uncertainty_word_proportion', 'constraining_word_proportion' ]"
      ],
      "execution_count": 0,
      "outputs": []
    },
    {
      "cell_type": "code",
      "metadata": {
        "id": "9BJ7sJw-doEx",
        "colab_type": "code",
        "colab": {}
      },
      "source": [
        "import itertools\n",
        "constraining_words_whole_report = pd.Series(name='constraining_words_whole_report')\n",
        "\n",
        "df_col = [sec.lower() + '_' + var for sec,var in itertools.product(section_name,variables) ]\n",
        "df = pd.DataFrame(columns=df_col)"
      ],
      "execution_count": 0,
      "outputs": []
    },
    {
      "cell_type": "code",
      "metadata": {
        "id": "atFpLlN-d_rZ",
        "colab_type": "code",
        "colab": {}
      },
      "source": [
        ""
      ],
      "execution_count": 0,
      "outputs": []
    },
    {
      "cell_type": "code",
      "metadata": {
        "id": "dWgO6mWufgC-",
        "colab_type": "code",
        "colab": {}
      },
      "source": [
        "\n",
        "master_dict = pd.read_csv('./LoughranMcDonald_MasterDictionary.csv', index_col= 0)"
      ],
      "execution_count": 0,
      "outputs": []
    },
    {
      "cell_type": "code",
      "metadata": {
        "id": "JVe7OiZNjYSg",
        "colab_type": "code",
        "colab": {}
      },
      "source": [
        "constraining_dict = set(pd.read_excel('./constraining_dictionary.xlsx',index_col = 0).index)\n",
        "uncertainty_dict = set(pd.read_excel('./uncertainty_dictionary.xlsx', index_col = 0).index)"
      ],
      "execution_count": 0,
      "outputs": []
    },
    {
      "cell_type": "code",
      "metadata": {
        "id": "vDWr3Yh5jrgg",
        "colab_type": "code",
        "outputId": "0941eda3-b037-4f10-cd62-8dd940e3b5d9",
        "colab": {
          "base_uri": "https://localhost:8080/",
          "height": 139
        }
      },
      "source": [
        "\n",
        "\n",
        "cik_list.loc[64]\n",
        "\n"
      ],
      "execution_count": 0,
      "outputs": [
        {
          "output_type": "execute_result",
          "data": {
            "text/plain": [
              "CIK                                             4962\n",
              "CONAME                           AMERICAN EXPRESS CO\n",
              "FYRMO                                         201407\n",
              "FDATE                            2014-07-30 00:00:00\n",
              "FORM                                            10-Q\n",
              "SECFNAME    edgar/data/4962/0001193125-14-286961.txt\n",
              "Name: 64, dtype: object"
            ]
          },
          "metadata": {
            "tags": []
          },
          "execution_count": 27
        }
      ]
    },
    {
      "cell_type": "code",
      "metadata": {
        "id": "KKUX8tkNQpKu",
        "colab_type": "code",
        "colab": {}
      },
      "source": [
        "for i in range(max_row):\n",
        "     text = requests.get(link[i]).text\n",
        "     text\n",
        "     file_name = 'form' + str(i)\n",
        "     f = open(file_name, 'a+')\n",
        "     f.write(text)\n",
        "     f.close()"
      ],
      "execution_count": 0,
      "outputs": []
    },
    {
      "cell_type": "code",
      "metadata": {
        "id": "m4nVdfvGj10u",
        "colab_type": "code",
        "outputId": "0aa30746-e25a-4dbb-b1f2-de631e664722",
        "colab": {
          "base_uri": "https://localhost:8080/",
          "height": 54
        }
      },
      "source": [
        "for i in range(max_row):\n",
        "    #print(i)\n",
        "    file_name = './form' + str(i)\n",
        "    text = open(file_name,'r').read()\n",
        "    print('reading..',end = \"done \")"
      ],
      "execution_count": 0,
      "outputs": [
        {
          "output_type": "stream",
          "text": [
            "reading..done reading..done reading..done reading..done reading..done reading..done reading..done reading..done reading..done reading..done reading..done reading..done reading..done reading..done reading..done reading..done reading..done reading..done reading..done reading..done reading..done reading..done reading..done reading..done reading..done reading..done reading..done reading..done reading..done reading..done reading..done reading..done reading..done reading..done reading..done reading..done reading..done reading..done reading..done reading..done reading..done reading..done reading..done reading..done reading..done reading..done reading..done reading..done reading..done reading..done reading..done reading..done reading..done reading..done reading..done reading..done reading..done reading..done reading..done reading..done reading..done reading..done reading..done reading..done reading..done reading..done reading..done reading..done reading..done reading..done reading..done reading..done reading..done reading..done reading..done reading..done reading..done reading..done reading..done reading..done reading..done reading..done reading..done reading..done reading..done reading..done reading..done reading..done reading..done reading..done reading..done reading..done reading..done reading..done reading..done reading..done reading..done reading..done reading..done reading..done reading..done reading..done reading..done reading..done reading..done reading..done reading..done reading..done reading..done reading..done reading..done reading..done reading..done reading..done reading..done reading..done reading..done reading..done reading..done reading..done reading..done reading..done reading..done reading..done reading..done reading..done reading..done reading..done reading..done reading..done reading..done reading..done reading..done reading..done reading..done reading..done reading..done reading..done reading..done reading..done reading..done reading..done reading..done reading..done reading..done reading..done reading..done reading..done reading..done reading..done reading..done reading..done "
          ],
          "name": "stdout"
        }
      ]
    },
    {
      "cell_type": "code",
      "metadata": {
        "id": "ckXjyJK4m99r",
        "colab_type": "code",
        "colab": {}
      },
      "source": [
        ""
      ],
      "execution_count": 0,
      "outputs": []
    },
    {
      "cell_type": "code",
      "metadata": {
        "id": "Oxw_kssFnYjV",
        "colab_type": "code",
        "outputId": "a15e8242-4191-454b-af34-eec9a6c5fd8c",
        "colab": {
          "base_uri": "https://localhost:8080/",
          "height": 34
        }
      },
      "source": [
        "\n",
        "df.loc[i] = np.zeros(42)\n",
        "    \n",
        "for j in range(3):\n",
        "    if i in [63,64]:\n",
        "        continue\n",
        "    print(i,j,sep= '|',end = \" \")\n",
        "    exp = r\".*(?P<start>ITEM [\\d]\\. \" + re.escape(section[j]) + r\")(?P<MDA>.*)(?P<body>[\\s\\S]*)(?P<end>ITEM \\d|SIGNATURES)\"\n",
        "    regexp = re.compile(exp)\n",
        "    s = regexp.search(text)\n",
        "        \n",
        "    if s:\n",
        "        data = s.group('body')\n",
        "        text = denoise_text(data)\n",
        "        sent_list = sent_tokenize(text)\n",
        "        sentence_length = len(sent_list)\n",
        "\n",
        "        sample = text.split()\n",
        "        sample = normalize(sample)\n",
        "        word_count = len(sample)\n",
        "        complex_word_count = 0\n",
        "            \n",
        "        for word in sample:\n",
        "            if nsyl(word.lower()) > 2:\n",
        "                complex_word_count += 1\n",
        "            \n",
        "        average_sentence_length = word_count/sentence_length\n",
        "        percentage_of_complex_words = complex_word_count/word_count\n",
        "        fog_index = 0.4 * (average_sentence_length + percentage_of_complex_words)\n",
        "            \n",
        "        positive_score = 0\n",
        "        negative_score = 0\n",
        "        uncertainty_score = 0\n",
        "        constraining_score = 0\n",
        "        for word in sample:\n",
        "            if word in master_dict.index:\n",
        "                    \n",
        "                if master_dict.loc[word].Positive > 0:\n",
        "                    positive_score += 1\n",
        "                if master_dict.loc[word].Negative > 0:\n",
        "                    negative_score += 1\n",
        "                if word in uncertainty_dict:\n",
        "                    uncertainty_score += 1\n",
        "                if word in constraining_dict:\n",
        "                    constraining_score += 1\n",
        "            \n",
        "        polarity_score = (positive_score-negative_score)/(positive_score + negative_score + .000001)\n",
        "        positive_word_proportion = positive_score/word_count\n",
        "        negative_word_proportion = negative_score/word_count\n",
        "        uncertainty_word_proportion = uncertainty_score/word_count\n",
        "        constraining_word_proportion = constraining_score/word_count\n",
        "            \n",
        "        df.loc[i][section_name[j].lower() + \"_positive_score\"] = positive_score\n",
        "        df.loc[i][section_name[j].lower() + \"_negative_score\"] = negative_score\n",
        "        df.loc[i][section_name[j].lower() + \"_polarity_score\"] = polarity_score\n",
        "        df.loc[i][section_name[j].lower() + \"_average_sentence_length\"] = average_sentence_length\n",
        "        df.loc[i][section_name[j].lower() + \"_percentage_of_complex_words\"] = percentage_of_complex_words\n",
        "        df.loc[i][section_name[j].lower() + \"_fog_index\"] = fog_index\n",
        "        df.loc[i][section_name[j].lower() + \"_complex_word_count\"] = complex_word_count\n",
        "        df.loc[i][section_name[j].lower() + \"_word_count\"] = word_count\n",
        "        df.loc[i][section_name[j].lower() + \"_uncertainty_score\"] = uncertainty_score\n",
        "        df.loc[i][section_name[j].lower() + \"_constraining_score\"] = constraining_score\n",
        "        df.loc[i][section_name[j].lower() + \"_positive_word_proportion\"] = positive_word_proportion\n",
        "        df.loc[i][section_name[j].lower() + \"_negative_word_proportion\"] = negative_word_proportion\n",
        "        df.loc[i][section_name[j].lower() + \"_uncertainty_word_proportion\"] = uncertainty_word_proportion\n",
        "        df.loc[i][section_name[j].lower() + \"_constraining_word_proportion\"] = constraining_word_proportion "
      ],
      "execution_count": 0,
      "outputs": [
        {
          "output_type": "stream",
          "text": [
            "151|0 151|1 151|2 "
          ],
          "name": "stdout"
        }
      ]
    },
    {
      "cell_type": "code",
      "metadata": {
        "id": "JqmO1C9vpLvb",
        "colab_type": "code",
        "outputId": "0977f3d8-af74-46dc-bd9d-464dcd9870ad",
        "colab": {
          "base_uri": "https://localhost:8080/",
          "height": 54
        }
      },
      "source": [
        "for i in range(max_row):\n",
        "    print(i,end = \" \")\n",
        "    file_name = './form' + str(i)\n",
        "    text = open(file_name,'r').read()\n",
        "    print('reading..',end = \" \")\n",
        "    \n",
        "    constraining_words_whole_report.loc[i] = 0\n",
        "    constraining_words_whole_report_count = 0\n",
        "    for word in denoise_text(text).split():\n",
        "        if word in constraining_dict:\n",
        "            constraining_words_whole_report_count += 1\n",
        "    print('here...',end = \"  \")\n",
        "    constraining_words_whole_report.loc[i] = constraining_words_whole_report_count"
      ],
      "execution_count": 0,
      "outputs": [
        {
          "output_type": "stream",
          "text": [
            "0 reading.. here...  1 reading.. here...  2 reading.. here...  3 reading.. here...  4 reading.. here...  5 reading.. here...  6 reading.. here...  7 reading.. here...  8 reading.. here...  9 reading.. here...  10 reading.. here...  11 reading.. here...  12 reading.. here...  13 reading.. here...  14 reading.. here...  15 reading.. here...  16 reading.. here...  17 reading.. here...  18 reading.. here...  19 reading.. here...  20 reading.. here...  21 reading.. here...  22 reading.. here...  23 reading.. here...  24 reading.. here...  25 reading.. here...  26 reading.. here...  27 reading.. here...  28 reading.. here...  29 reading.. here...  30 reading.. here...  31 reading.. here...  32 reading.. here...  33 reading.. here...  34 reading.. here...  35 reading.. here...  36 reading.. here...  37 reading.. here...  38 reading.. here...  39 reading.. here...  40 reading.. here...  41 reading.. here...  42 reading.. here...  43 reading.. here...  44 reading.. here...  45 reading.. here...  46 reading.. here...  47 reading.. here...  48 reading.. here...  49 reading.. here...  50 reading.. here...  51 reading.. here...  52 reading.. here...  53 reading.. here...  54 reading.. here...  55 reading.. here...  56 reading.. here...  57 reading.. here...  58 reading.. here...  59 reading.. here...  60 reading.. here...  61 reading.. here...  62 reading.. here...  63 reading.. here...  64 reading.. here...  65 reading.. here...  66 reading.. here...  67 reading.. here...  68 reading.. here...  69 reading.. here...  70 reading.. here...  71 reading.. here...  72 reading.. here...  73 reading.. here...  74 reading.. here...  75 reading.. here...  76 reading.. here...  77 reading.. here...  78 reading.. here...  79 reading.. here...  80 reading.. here...  81 reading.. here...  82 reading.. here...  83 reading.. here...  84 reading.. here...  85 reading.. here...  86 reading.. here...  87 reading.. here...  88 reading.. here...  89 reading.. here...  90 reading.. here...  91 reading.. here...  92 reading.. here...  93 reading.. here...  94 reading.. here...  95 reading.. here...  96 reading.. here...  97 reading.. here...  98 reading.. here...  99 reading.. here...  100 reading.. here...  101 reading.. here...  102 reading.. here...  103 reading.. here...  104 reading.. here...  105 reading.. here...  106 reading.. here...  107 reading.. here...  108 reading.. here...  109 reading.. here...  110 reading.. here...  111 reading.. here...  112 reading.. here...  113 reading.. here...  114 reading.. here...  115 reading.. here...  116 reading.. here...  117 reading.. here...  118 reading.. here...  119 reading.. here...  120 reading.. here...  121 reading.. here...  122 reading.. here...  123 reading.. here...  124 reading.. here...  125 reading.. here...  126 reading.. here...  127 reading.. here...  128 reading.. here...  129 reading.. here...  130 reading.. here...  131 reading.. here...  132 reading.. here...  133 reading.. here...  134 reading.. here...  135 reading.. here...  136 reading.. here...  137 reading.. here...  138 reading.. here...  139 reading.. here...  140 reading.. here...  141 reading.. here...  142 reading.. here...  143 reading.. here...  144 reading.. here...  145 reading.. here...  146 reading.. here...  147 reading.. here...  148 reading.. here...  149 reading.. here...  150 reading.. here...  151 reading.. here...  "
          ],
          "name": "stdout"
        }
      ]
    },
    {
      "cell_type": "code",
      "metadata": {
        "id": "nsGIiXYFqiqy",
        "colab_type": "code",
        "outputId": "035cb58d-342c-4226-e8d0-1b47696862a7",
        "colab": {
          "base_uri": "https://localhost:8080/",
          "height": 34
        }
      },
      "source": [
        "df = pd.concat([cik_list,df,constraining_words_whole_report], axis = 1)\n",
        "df.shape"
      ],
      "execution_count": 0,
      "outputs": [
        {
          "output_type": "execute_result",
          "data": {
            "text/plain": [
              "(152, 49)"
            ]
          },
          "metadata": {
            "tags": []
          },
          "execution_count": 43
        }
      ]
    },
    {
      "cell_type": "code",
      "metadata": {
        "id": "UAkNg3PurBIi",
        "colab_type": "code",
        "outputId": "0665eae1-7830-40b2-f52e-9c4102867ac1",
        "colab": {
          "base_uri": "https://localhost:8080/",
          "height": 557
        }
      },
      "source": [
        "df.head(10)"
      ],
      "execution_count": 0,
      "outputs": [
        {
          "output_type": "execute_result",
          "data": {
            "text/html": [
              "<div>\n",
              "<style scoped>\n",
              "    .dataframe tbody tr th:only-of-type {\n",
              "        vertical-align: middle;\n",
              "    }\n",
              "\n",
              "    .dataframe tbody tr th {\n",
              "        vertical-align: top;\n",
              "    }\n",
              "\n",
              "    .dataframe thead th {\n",
              "        text-align: right;\n",
              "    }\n",
              "</style>\n",
              "<table border=\"1\" class=\"dataframe\">\n",
              "  <thead>\n",
              "    <tr style=\"text-align: right;\">\n",
              "      <th></th>\n",
              "      <th>CIK</th>\n",
              "      <th>CONAME</th>\n",
              "      <th>FYRMO</th>\n",
              "      <th>FDATE</th>\n",
              "      <th>FORM</th>\n",
              "      <th>SECFNAME</th>\n",
              "      <th>mda_positive_score</th>\n",
              "      <th>mda_negative_score</th>\n",
              "      <th>mda_polarity_score</th>\n",
              "      <th>mda_average_sentence_length</th>\n",
              "      <th>mda_percentage_of_complex_words</th>\n",
              "      <th>mda_fog_index</th>\n",
              "      <th>mda_complex_word_count</th>\n",
              "      <th>mda_word_count</th>\n",
              "      <th>mda_uncertainty_score</th>\n",
              "      <th>mda_constraining_score</th>\n",
              "      <th>mda_positive_word_proportion</th>\n",
              "      <th>mda_negative_word_proportion</th>\n",
              "      <th>mda_uncertainty_word_proportion</th>\n",
              "      <th>mda_constraining_word_proportion</th>\n",
              "      <th>qqdmr_positive_score</th>\n",
              "      <th>qqdmr_negative_score</th>\n",
              "      <th>qqdmr_polarity_score</th>\n",
              "      <th>qqdmr_average_sentence_length</th>\n",
              "      <th>qqdmr_percentage_of_complex_words</th>\n",
              "      <th>qqdmr_fog_index</th>\n",
              "      <th>qqdmr_complex_word_count</th>\n",
              "      <th>qqdmr_word_count</th>\n",
              "      <th>qqdmr_uncertainty_score</th>\n",
              "      <th>qqdmr_constraining_score</th>\n",
              "      <th>qqdmr_positive_word_proportion</th>\n",
              "      <th>qqdmr_negative_word_proportion</th>\n",
              "      <th>qqdmr_uncertainty_word_proportion</th>\n",
              "      <th>qqdmr_constraining_word_proportion</th>\n",
              "      <th>rf_positive_score</th>\n",
              "      <th>rf_negative_score</th>\n",
              "      <th>rf_polarity_score</th>\n",
              "      <th>rf_average_sentence_length</th>\n",
              "      <th>rf_percentage_of_complex_words</th>\n",
              "      <th>rf_fog_index</th>\n",
              "      <th>rf_complex_word_count</th>\n",
              "      <th>rf_word_count</th>\n",
              "      <th>rf_uncertainty_score</th>\n",
              "      <th>rf_constraining_score</th>\n",
              "      <th>rf_positive_word_proportion</th>\n",
              "      <th>rf_negative_word_proportion</th>\n",
              "      <th>rf_uncertainty_word_proportion</th>\n",
              "      <th>rf_constraining_word_proportion</th>\n",
              "      <th>constraining_words_whole_report</th>\n",
              "    </tr>\n",
              "  </thead>\n",
              "  <tbody>\n",
              "    <tr>\n",
              "      <th>0</th>\n",
              "      <td>3662</td>\n",
              "      <td>SUNBEAM CORP/FL/</td>\n",
              "      <td>199803</td>\n",
              "      <td>1998-03-06</td>\n",
              "      <td>10-K405</td>\n",
              "      <td>edgar/data/3662/0000950170-98-000413.txt</td>\n",
              "      <td>NaN</td>\n",
              "      <td>NaN</td>\n",
              "      <td>NaN</td>\n",
              "      <td>NaN</td>\n",
              "      <td>NaN</td>\n",
              "      <td>NaN</td>\n",
              "      <td>NaN</td>\n",
              "      <td>NaN</td>\n",
              "      <td>NaN</td>\n",
              "      <td>NaN</td>\n",
              "      <td>NaN</td>\n",
              "      <td>NaN</td>\n",
              "      <td>NaN</td>\n",
              "      <td>NaN</td>\n",
              "      <td>NaN</td>\n",
              "      <td>NaN</td>\n",
              "      <td>NaN</td>\n",
              "      <td>NaN</td>\n",
              "      <td>NaN</td>\n",
              "      <td>NaN</td>\n",
              "      <td>NaN</td>\n",
              "      <td>NaN</td>\n",
              "      <td>NaN</td>\n",
              "      <td>NaN</td>\n",
              "      <td>NaN</td>\n",
              "      <td>NaN</td>\n",
              "      <td>NaN</td>\n",
              "      <td>NaN</td>\n",
              "      <td>NaN</td>\n",
              "      <td>NaN</td>\n",
              "      <td>NaN</td>\n",
              "      <td>NaN</td>\n",
              "      <td>NaN</td>\n",
              "      <td>NaN</td>\n",
              "      <td>NaN</td>\n",
              "      <td>NaN</td>\n",
              "      <td>NaN</td>\n",
              "      <td>NaN</td>\n",
              "      <td>NaN</td>\n",
              "      <td>NaN</td>\n",
              "      <td>NaN</td>\n",
              "      <td>NaN</td>\n",
              "      <td>55</td>\n",
              "    </tr>\n",
              "    <tr>\n",
              "      <th>1</th>\n",
              "      <td>3662</td>\n",
              "      <td>SUNBEAM CORP/FL/</td>\n",
              "      <td>199805</td>\n",
              "      <td>1998-05-15</td>\n",
              "      <td>10-Q</td>\n",
              "      <td>edgar/data/3662/0000950170-98-001001.txt</td>\n",
              "      <td>NaN</td>\n",
              "      <td>NaN</td>\n",
              "      <td>NaN</td>\n",
              "      <td>NaN</td>\n",
              "      <td>NaN</td>\n",
              "      <td>NaN</td>\n",
              "      <td>NaN</td>\n",
              "      <td>NaN</td>\n",
              "      <td>NaN</td>\n",
              "      <td>NaN</td>\n",
              "      <td>NaN</td>\n",
              "      <td>NaN</td>\n",
              "      <td>NaN</td>\n",
              "      <td>NaN</td>\n",
              "      <td>NaN</td>\n",
              "      <td>NaN</td>\n",
              "      <td>NaN</td>\n",
              "      <td>NaN</td>\n",
              "      <td>NaN</td>\n",
              "      <td>NaN</td>\n",
              "      <td>NaN</td>\n",
              "      <td>NaN</td>\n",
              "      <td>NaN</td>\n",
              "      <td>NaN</td>\n",
              "      <td>NaN</td>\n",
              "      <td>NaN</td>\n",
              "      <td>NaN</td>\n",
              "      <td>NaN</td>\n",
              "      <td>NaN</td>\n",
              "      <td>NaN</td>\n",
              "      <td>NaN</td>\n",
              "      <td>NaN</td>\n",
              "      <td>NaN</td>\n",
              "      <td>NaN</td>\n",
              "      <td>NaN</td>\n",
              "      <td>NaN</td>\n",
              "      <td>NaN</td>\n",
              "      <td>NaN</td>\n",
              "      <td>NaN</td>\n",
              "      <td>NaN</td>\n",
              "      <td>NaN</td>\n",
              "      <td>NaN</td>\n",
              "      <td>41</td>\n",
              "    </tr>\n",
              "    <tr>\n",
              "      <th>2</th>\n",
              "      <td>3662</td>\n",
              "      <td>SUNBEAM CORP/FL/</td>\n",
              "      <td>199808</td>\n",
              "      <td>1998-08-13</td>\n",
              "      <td>NT 10-Q</td>\n",
              "      <td>edgar/data/3662/0000950172-98-000783.txt</td>\n",
              "      <td>NaN</td>\n",
              "      <td>NaN</td>\n",
              "      <td>NaN</td>\n",
              "      <td>NaN</td>\n",
              "      <td>NaN</td>\n",
              "      <td>NaN</td>\n",
              "      <td>NaN</td>\n",
              "      <td>NaN</td>\n",
              "      <td>NaN</td>\n",
              "      <td>NaN</td>\n",
              "      <td>NaN</td>\n",
              "      <td>NaN</td>\n",
              "      <td>NaN</td>\n",
              "      <td>NaN</td>\n",
              "      <td>NaN</td>\n",
              "      <td>NaN</td>\n",
              "      <td>NaN</td>\n",
              "      <td>NaN</td>\n",
              "      <td>NaN</td>\n",
              "      <td>NaN</td>\n",
              "      <td>NaN</td>\n",
              "      <td>NaN</td>\n",
              "      <td>NaN</td>\n",
              "      <td>NaN</td>\n",
              "      <td>NaN</td>\n",
              "      <td>NaN</td>\n",
              "      <td>NaN</td>\n",
              "      <td>NaN</td>\n",
              "      <td>NaN</td>\n",
              "      <td>NaN</td>\n",
              "      <td>NaN</td>\n",
              "      <td>NaN</td>\n",
              "      <td>NaN</td>\n",
              "      <td>NaN</td>\n",
              "      <td>NaN</td>\n",
              "      <td>NaN</td>\n",
              "      <td>NaN</td>\n",
              "      <td>NaN</td>\n",
              "      <td>NaN</td>\n",
              "      <td>NaN</td>\n",
              "      <td>NaN</td>\n",
              "      <td>NaN</td>\n",
              "      <td>0</td>\n",
              "    </tr>\n",
              "    <tr>\n",
              "      <th>3</th>\n",
              "      <td>3662</td>\n",
              "      <td>SUNBEAM CORP/FL/</td>\n",
              "      <td>199811</td>\n",
              "      <td>1998-11-12</td>\n",
              "      <td>10-K/A</td>\n",
              "      <td>edgar/data/3662/0000950170-98-002145.txt</td>\n",
              "      <td>NaN</td>\n",
              "      <td>NaN</td>\n",
              "      <td>NaN</td>\n",
              "      <td>NaN</td>\n",
              "      <td>NaN</td>\n",
              "      <td>NaN</td>\n",
              "      <td>NaN</td>\n",
              "      <td>NaN</td>\n",
              "      <td>NaN</td>\n",
              "      <td>NaN</td>\n",
              "      <td>NaN</td>\n",
              "      <td>NaN</td>\n",
              "      <td>NaN</td>\n",
              "      <td>NaN</td>\n",
              "      <td>NaN</td>\n",
              "      <td>NaN</td>\n",
              "      <td>NaN</td>\n",
              "      <td>NaN</td>\n",
              "      <td>NaN</td>\n",
              "      <td>NaN</td>\n",
              "      <td>NaN</td>\n",
              "      <td>NaN</td>\n",
              "      <td>NaN</td>\n",
              "      <td>NaN</td>\n",
              "      <td>NaN</td>\n",
              "      <td>NaN</td>\n",
              "      <td>NaN</td>\n",
              "      <td>NaN</td>\n",
              "      <td>NaN</td>\n",
              "      <td>NaN</td>\n",
              "      <td>NaN</td>\n",
              "      <td>NaN</td>\n",
              "      <td>NaN</td>\n",
              "      <td>NaN</td>\n",
              "      <td>NaN</td>\n",
              "      <td>NaN</td>\n",
              "      <td>NaN</td>\n",
              "      <td>NaN</td>\n",
              "      <td>NaN</td>\n",
              "      <td>NaN</td>\n",
              "      <td>NaN</td>\n",
              "      <td>NaN</td>\n",
              "      <td>38</td>\n",
              "    </tr>\n",
              "    <tr>\n",
              "      <th>4</th>\n",
              "      <td>3662</td>\n",
              "      <td>SUNBEAM CORP/FL/</td>\n",
              "      <td>199811</td>\n",
              "      <td>1998-11-16</td>\n",
              "      <td>NT 10-Q</td>\n",
              "      <td>edgar/data/3662/0000950172-98-001203.txt</td>\n",
              "      <td>NaN</td>\n",
              "      <td>NaN</td>\n",
              "      <td>NaN</td>\n",
              "      <td>NaN</td>\n",
              "      <td>NaN</td>\n",
              "      <td>NaN</td>\n",
              "      <td>NaN</td>\n",
              "      <td>NaN</td>\n",
              "      <td>NaN</td>\n",
              "      <td>NaN</td>\n",
              "      <td>NaN</td>\n",
              "      <td>NaN</td>\n",
              "      <td>NaN</td>\n",
              "      <td>NaN</td>\n",
              "      <td>NaN</td>\n",
              "      <td>NaN</td>\n",
              "      <td>NaN</td>\n",
              "      <td>NaN</td>\n",
              "      <td>NaN</td>\n",
              "      <td>NaN</td>\n",
              "      <td>NaN</td>\n",
              "      <td>NaN</td>\n",
              "      <td>NaN</td>\n",
              "      <td>NaN</td>\n",
              "      <td>NaN</td>\n",
              "      <td>NaN</td>\n",
              "      <td>NaN</td>\n",
              "      <td>NaN</td>\n",
              "      <td>NaN</td>\n",
              "      <td>NaN</td>\n",
              "      <td>NaN</td>\n",
              "      <td>NaN</td>\n",
              "      <td>NaN</td>\n",
              "      <td>NaN</td>\n",
              "      <td>NaN</td>\n",
              "      <td>NaN</td>\n",
              "      <td>NaN</td>\n",
              "      <td>NaN</td>\n",
              "      <td>NaN</td>\n",
              "      <td>NaN</td>\n",
              "      <td>NaN</td>\n",
              "      <td>NaN</td>\n",
              "      <td>0</td>\n",
              "    </tr>\n",
              "    <tr>\n",
              "      <th>5</th>\n",
              "      <td>3662</td>\n",
              "      <td>SUNBEAM CORP/FL/</td>\n",
              "      <td>199811</td>\n",
              "      <td>1998-11-25</td>\n",
              "      <td>10-Q/A</td>\n",
              "      <td>edgar/data/3662/0000950170-98-002278.txt</td>\n",
              "      <td>NaN</td>\n",
              "      <td>NaN</td>\n",
              "      <td>NaN</td>\n",
              "      <td>NaN</td>\n",
              "      <td>NaN</td>\n",
              "      <td>NaN</td>\n",
              "      <td>NaN</td>\n",
              "      <td>NaN</td>\n",
              "      <td>NaN</td>\n",
              "      <td>NaN</td>\n",
              "      <td>NaN</td>\n",
              "      <td>NaN</td>\n",
              "      <td>NaN</td>\n",
              "      <td>NaN</td>\n",
              "      <td>NaN</td>\n",
              "      <td>NaN</td>\n",
              "      <td>NaN</td>\n",
              "      <td>NaN</td>\n",
              "      <td>NaN</td>\n",
              "      <td>NaN</td>\n",
              "      <td>NaN</td>\n",
              "      <td>NaN</td>\n",
              "      <td>NaN</td>\n",
              "      <td>NaN</td>\n",
              "      <td>NaN</td>\n",
              "      <td>NaN</td>\n",
              "      <td>NaN</td>\n",
              "      <td>NaN</td>\n",
              "      <td>NaN</td>\n",
              "      <td>NaN</td>\n",
              "      <td>NaN</td>\n",
              "      <td>NaN</td>\n",
              "      <td>NaN</td>\n",
              "      <td>NaN</td>\n",
              "      <td>NaN</td>\n",
              "      <td>NaN</td>\n",
              "      <td>NaN</td>\n",
              "      <td>NaN</td>\n",
              "      <td>NaN</td>\n",
              "      <td>NaN</td>\n",
              "      <td>NaN</td>\n",
              "      <td>NaN</td>\n",
              "      <td>1</td>\n",
              "    </tr>\n",
              "    <tr>\n",
              "      <th>6</th>\n",
              "      <td>3662</td>\n",
              "      <td>SUNBEAM CORP/FL/</td>\n",
              "      <td>199812</td>\n",
              "      <td>1998-12-22</td>\n",
              "      <td>10-Q</td>\n",
              "      <td>edgar/data/3662/0000950170-98-002401.txt</td>\n",
              "      <td>NaN</td>\n",
              "      <td>NaN</td>\n",
              "      <td>NaN</td>\n",
              "      <td>NaN</td>\n",
              "      <td>NaN</td>\n",
              "      <td>NaN</td>\n",
              "      <td>NaN</td>\n",
              "      <td>NaN</td>\n",
              "      <td>NaN</td>\n",
              "      <td>NaN</td>\n",
              "      <td>NaN</td>\n",
              "      <td>NaN</td>\n",
              "      <td>NaN</td>\n",
              "      <td>NaN</td>\n",
              "      <td>NaN</td>\n",
              "      <td>NaN</td>\n",
              "      <td>NaN</td>\n",
              "      <td>NaN</td>\n",
              "      <td>NaN</td>\n",
              "      <td>NaN</td>\n",
              "      <td>NaN</td>\n",
              "      <td>NaN</td>\n",
              "      <td>NaN</td>\n",
              "      <td>NaN</td>\n",
              "      <td>NaN</td>\n",
              "      <td>NaN</td>\n",
              "      <td>NaN</td>\n",
              "      <td>NaN</td>\n",
              "      <td>NaN</td>\n",
              "      <td>NaN</td>\n",
              "      <td>NaN</td>\n",
              "      <td>NaN</td>\n",
              "      <td>NaN</td>\n",
              "      <td>NaN</td>\n",
              "      <td>NaN</td>\n",
              "      <td>NaN</td>\n",
              "      <td>NaN</td>\n",
              "      <td>NaN</td>\n",
              "      <td>NaN</td>\n",
              "      <td>NaN</td>\n",
              "      <td>NaN</td>\n",
              "      <td>NaN</td>\n",
              "      <td>8</td>\n",
              "    </tr>\n",
              "    <tr>\n",
              "      <th>7</th>\n",
              "      <td>3662</td>\n",
              "      <td>SUNBEAM CORP/FL/</td>\n",
              "      <td>199812</td>\n",
              "      <td>1998-12-22</td>\n",
              "      <td>10-Q</td>\n",
              "      <td>edgar/data/3662/0000950170-98-002402.txt</td>\n",
              "      <td>NaN</td>\n",
              "      <td>NaN</td>\n",
              "      <td>NaN</td>\n",
              "      <td>NaN</td>\n",
              "      <td>NaN</td>\n",
              "      <td>NaN</td>\n",
              "      <td>NaN</td>\n",
              "      <td>NaN</td>\n",
              "      <td>NaN</td>\n",
              "      <td>NaN</td>\n",
              "      <td>NaN</td>\n",
              "      <td>NaN</td>\n",
              "      <td>NaN</td>\n",
              "      <td>NaN</td>\n",
              "      <td>NaN</td>\n",
              "      <td>NaN</td>\n",
              "      <td>NaN</td>\n",
              "      <td>NaN</td>\n",
              "      <td>NaN</td>\n",
              "      <td>NaN</td>\n",
              "      <td>NaN</td>\n",
              "      <td>NaN</td>\n",
              "      <td>NaN</td>\n",
              "      <td>NaN</td>\n",
              "      <td>NaN</td>\n",
              "      <td>NaN</td>\n",
              "      <td>NaN</td>\n",
              "      <td>NaN</td>\n",
              "      <td>NaN</td>\n",
              "      <td>NaN</td>\n",
              "      <td>NaN</td>\n",
              "      <td>NaN</td>\n",
              "      <td>NaN</td>\n",
              "      <td>NaN</td>\n",
              "      <td>NaN</td>\n",
              "      <td>NaN</td>\n",
              "      <td>NaN</td>\n",
              "      <td>NaN</td>\n",
              "      <td>NaN</td>\n",
              "      <td>NaN</td>\n",
              "      <td>NaN</td>\n",
              "      <td>NaN</td>\n",
              "      <td>3</td>\n",
              "    </tr>\n",
              "    <tr>\n",
              "      <th>8</th>\n",
              "      <td>3662</td>\n",
              "      <td>SUNBEAM CORP/FL/</td>\n",
              "      <td>199903</td>\n",
              "      <td>1999-03-31</td>\n",
              "      <td>NT 10-K</td>\n",
              "      <td>edgar/data/3662/0000950172-99-000362.txt</td>\n",
              "      <td>NaN</td>\n",
              "      <td>NaN</td>\n",
              "      <td>NaN</td>\n",
              "      <td>NaN</td>\n",
              "      <td>NaN</td>\n",
              "      <td>NaN</td>\n",
              "      <td>NaN</td>\n",
              "      <td>NaN</td>\n",
              "      <td>NaN</td>\n",
              "      <td>NaN</td>\n",
              "      <td>NaN</td>\n",
              "      <td>NaN</td>\n",
              "      <td>NaN</td>\n",
              "      <td>NaN</td>\n",
              "      <td>NaN</td>\n",
              "      <td>NaN</td>\n",
              "      <td>NaN</td>\n",
              "      <td>NaN</td>\n",
              "      <td>NaN</td>\n",
              "      <td>NaN</td>\n",
              "      <td>NaN</td>\n",
              "      <td>NaN</td>\n",
              "      <td>NaN</td>\n",
              "      <td>NaN</td>\n",
              "      <td>NaN</td>\n",
              "      <td>NaN</td>\n",
              "      <td>NaN</td>\n",
              "      <td>NaN</td>\n",
              "      <td>NaN</td>\n",
              "      <td>NaN</td>\n",
              "      <td>NaN</td>\n",
              "      <td>NaN</td>\n",
              "      <td>NaN</td>\n",
              "      <td>NaN</td>\n",
              "      <td>NaN</td>\n",
              "      <td>NaN</td>\n",
              "      <td>NaN</td>\n",
              "      <td>NaN</td>\n",
              "      <td>NaN</td>\n",
              "      <td>NaN</td>\n",
              "      <td>NaN</td>\n",
              "      <td>NaN</td>\n",
              "      <td>0</td>\n",
              "    </tr>\n",
              "    <tr>\n",
              "      <th>9</th>\n",
              "      <td>3662</td>\n",
              "      <td>SUNBEAM CORP/FL/</td>\n",
              "      <td>199905</td>\n",
              "      <td>1999-05-11</td>\n",
              "      <td>10-K</td>\n",
              "      <td>edgar/data/3662/0000950170-99-000775.txt</td>\n",
              "      <td>NaN</td>\n",
              "      <td>NaN</td>\n",
              "      <td>NaN</td>\n",
              "      <td>NaN</td>\n",
              "      <td>NaN</td>\n",
              "      <td>NaN</td>\n",
              "      <td>NaN</td>\n",
              "      <td>NaN</td>\n",
              "      <td>NaN</td>\n",
              "      <td>NaN</td>\n",
              "      <td>NaN</td>\n",
              "      <td>NaN</td>\n",
              "      <td>NaN</td>\n",
              "      <td>NaN</td>\n",
              "      <td>NaN</td>\n",
              "      <td>NaN</td>\n",
              "      <td>NaN</td>\n",
              "      <td>NaN</td>\n",
              "      <td>NaN</td>\n",
              "      <td>NaN</td>\n",
              "      <td>NaN</td>\n",
              "      <td>NaN</td>\n",
              "      <td>NaN</td>\n",
              "      <td>NaN</td>\n",
              "      <td>NaN</td>\n",
              "      <td>NaN</td>\n",
              "      <td>NaN</td>\n",
              "      <td>NaN</td>\n",
              "      <td>NaN</td>\n",
              "      <td>NaN</td>\n",
              "      <td>NaN</td>\n",
              "      <td>NaN</td>\n",
              "      <td>NaN</td>\n",
              "      <td>NaN</td>\n",
              "      <td>NaN</td>\n",
              "      <td>NaN</td>\n",
              "      <td>NaN</td>\n",
              "      <td>NaN</td>\n",
              "      <td>NaN</td>\n",
              "      <td>NaN</td>\n",
              "      <td>NaN</td>\n",
              "      <td>NaN</td>\n",
              "      <td>15</td>\n",
              "    </tr>\n",
              "  </tbody>\n",
              "</table>\n",
              "</div>"
            ],
            "text/plain": [
              "    CIK  ... constraining_words_whole_report\n",
              "0  3662  ...                              55\n",
              "1  3662  ...                              41\n",
              "2  3662  ...                               0\n",
              "3  3662  ...                              38\n",
              "4  3662  ...                               0\n",
              "5  3662  ...                               1\n",
              "6  3662  ...                               8\n",
              "7  3662  ...                               3\n",
              "8  3662  ...                               0\n",
              "9  3662  ...                              15\n",
              "\n",
              "[10 rows x 49 columns]"
            ]
          },
          "metadata": {
            "tags": []
          },
          "execution_count": 45
        }
      ]
    },
    {
      "cell_type": "markdown",
      "metadata": {
        "id": "opTJh0owrX1U",
        "colab_type": "text"
      },
      "source": [
        ""
      ]
    },
    {
      "cell_type": "code",
      "metadata": {
        "id": "RE-CqIYprUbZ",
        "colab_type": "code",
        "colab": {}
      },
      "source": [
        "ls"
      ],
      "execution_count": 0,
      "outputs": []
    },
    {
      "cell_type": "code",
      "metadata": {
        "id": "ePTGKIsttLRX",
        "colab_type": "code",
        "colab": {}
      },
      "source": [
        ""
      ],
      "execution_count": 0,
      "outputs": []
    }
  ]
}