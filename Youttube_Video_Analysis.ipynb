{
  "nbformat": 4,
  "nbformat_minor": 0,
  "metadata": {
    "colab": {
      "name": "Youttube_Video_Analysis.ipynb",
      "provenance": [],
      "authorship_tag": "ABX9TyNx5ZpdJo/9GfcD42X2usX/",
      "include_colab_link": true
    },
    "kernelspec": {
      "name": "python3",
      "display_name": "Python 3"
    },
    "accelerator": "GPU"
  },
  "cells": [
    {
      "cell_type": "markdown",
      "metadata": {
        "id": "view-in-github",
        "colab_type": "text"
      },
      "source": [
        "<a href=\"https://colab.research.google.com/github/Gaurav7004/Machine-Learning-Projects/blob/master/Youttube_Video_Analysis.ipynb\" target=\"_parent\"><img src=\"https://colab.research.google.com/assets/colab-badge.svg\" alt=\"Open In Colab\"/></a>"
      ]
    },
    {
      "cell_type": "code",
      "metadata": {
        "id": "1w7QXxsUrtum",
        "colab_type": "code",
        "colab": {}
      },
      "source": [
        "import urllib.request\n",
        "import urllib.parse\n",
        "import urllib.error\n",
        "from bs4 import BeautifulSoup\n",
        "import ssl\n",
        "import json\n",
        "import ast\n",
        "import json\n",
        "import os\n",
        "from urllib.request import Request, urlopen\n"
      ],
      "execution_count": 0,
      "outputs": []
    },
    {
      "cell_type": "code",
      "metadata": {
        "id": "kBKSNqpIsKjv",
        "colab_type": "code",
        "colab": {}
      },
      "source": [
        "ctx = ssl.create_default_context()\n",
        "ctx.check_hostname = False\n",
        "ctx.verify_mode = ssl.CERT_NONE\n"
      ],
      "execution_count": 0,
      "outputs": []
    },
    {
      "cell_type": "code",
      "metadata": {
        "id": "L4kkiK6-sVnh",
        "colab_type": "code",
        "outputId": "eb645725-92b5-4c98-f650-10d2226460c2",
        "colab": {
          "base_uri": "https://localhost:8080/",
          "height": 34
        }
      },
      "source": [
        "url = input(\"Enter the youtube Video URL - \")"
      ],
      "execution_count": 3,
      "outputs": [
        {
          "output_type": "stream",
          "text": [
            "Enter the youtube Video URL - https://www.youtube.com/watch?v=xPp5TvFn6g8\n"
          ],
          "name": "stdout"
        }
      ]
    },
    {
      "cell_type": "code",
      "metadata": {
        "id": "6DDE2m16sesr",
        "colab_type": "code",
        "colab": {}
      },
      "source": [
        "req = Request(url, headers={'User-Agent': 'Mozilla/5.0'})\n",
        "webpage = urlopen(req).read()\n",
        "\n"
      ],
      "execution_count": 0,
      "outputs": []
    },
    {
      "cell_type": "code",
      "metadata": {
        "id": "MTFSGH47sols",
        "colab_type": "code",
        "colab": {}
      },
      "source": [
        "soup = BeautifulSoup(webpage, 'html.parser')\n",
        "html = soup.prettify('utf-8')\n",
        "video_details = {}\n",
        "other_details = {}\n"
      ],
      "execution_count": 0,
      "outputs": []
    },
    {
      "cell_type": "code",
      "metadata": {
        "id": "LSHgbRiAtOMl",
        "colab_type": "code",
        "colab": {}
      },
      "source": [
        "for span in soup.findAll('span',attrs={'class': 'watch-title'}):\n",
        "    video_details['TITLE'] = span.text.strip()"
      ],
      "execution_count": 0,
      "outputs": []
    },
    {
      "cell_type": "code",
      "metadata": {
        "id": "nuJ1pBW_toRX",
        "colab_type": "code",
        "colab": {}
      },
      "source": [
        "for script in soup.findAll('script',attrs={'type': 'application/ld+json'}):\n",
        "        channelDesctiption = json.loads(script.text.strip())\n",
        "        video_details['CHANNEL_NAME'] = channelDesctiption['itemListElement'][0]['item']['name']"
      ],
      "execution_count": 0,
      "outputs": []
    },
    {
      "cell_type": "code",
      "metadata": {
        "id": "OIpcL-UIznse",
        "colab_type": "code",
        "colab": {}
      },
      "source": [
        "for div in soup.findAll('div',attrs={'class': 'watch-view-count'}):\n",
        "    video_details['NUMBER_OF_VIEWS'] = div.text.strip()"
      ],
      "execution_count": 0,
      "outputs": []
    },
    {
      "cell_type": "code",
      "metadata": {
        "id": "IBDCtjBKzqIo",
        "colab_type": "code",
        "colab": {}
      },
      "source": [
        "for button in soup.findAll('button',attrs={'title': 'I like this'}):\n",
        "    video_details['LIKES'] = button.text.strip()"
      ],
      "execution_count": 0,
      "outputs": []
    },
    {
      "cell_type": "code",
      "metadata": {
        "id": "LYMhYNndFtoQ",
        "colab_type": "code",
        "colab": {}
      },
      "source": [
        "for button in soup.findAll('button',attrs={'title': 'I dislike this'}):\n",
        "    video_details['DISLIKES'] = button.text.strip()"
      ],
      "execution_count": 0,
      "outputs": []
    },
    {
      "cell_type": "code",
      "metadata": {
        "id": "GHFVIrBnFxZg",
        "colab_type": "code",
        "colab": {}
      },
      "source": [
        "for span in soup.findAll('span',attrs={'class': 'yt-subscription-button-subscriber-count-branded-horizontal yt-subscriber-count'}):\n",
        "    video_details['NUMBER_OF_SUBSCRIPTIONS'] = span.text.strip()"
      ],
      "execution_count": 0,
      "outputs": []
    },
    {
      "cell_type": "code",
      "metadata": {
        "id": "RD9W-qGTnkYH",
        "colab_type": "code",
        "colab": {}
      },
      "source": [
        "hashtags = []\n",
        "for span in soup.findAll('span',attrs={'class': 'standalone-collection-badge-renderer-text'}):\n",
        "    for a in span.findAll('a',attrs={'class': 'yt-uix-sessionlink'}):\n",
        "        hashtags.append(a.text.strip())\n",
        "video_details['HASH_TAGS'] = hashtags"
      ],
      "execution_count": 0,
      "outputs": []
    },
    {
      "cell_type": "code",
      "metadata": {
        "id": "95atZiZ2noe0",
        "colab_type": "code",
        "colab": {}
      },
      "source": [
        "with open('output_file.html', 'wb') as file:\n",
        "    file.write(html)"
      ],
      "execution_count": 0,
      "outputs": []
    },
    {
      "cell_type": "code",
      "metadata": {
        "id": "blNZcvdFnrXM",
        "colab_type": "code",
        "colab": {}
      },
      "source": [
        "with open('data.json', 'w', encoding='utf8') as outfile:\n",
        "    json.dump(video_details, outfile, ensure_ascii=False,indent=4)"
      ],
      "execution_count": 0,
      "outputs": []
    },
    {
      "cell_type": "code",
      "metadata": {
        "id": "EHZm5punn02t",
        "colab_type": "code",
        "outputId": "c955bf58-36ec-42ae-a5d7-96190eef8725",
        "colab": {
          "base_uri": "https://localhost:8080/",
          "height": 34
        }
      },
      "source": [
        "print ('-Extraction of data is complete. Check json file.--')"
      ],
      "execution_count": 15,
      "outputs": [
        {
          "output_type": "stream",
          "text": [
            "-Extraction of data is complete. Check json file.--\n"
          ],
          "name": "stdout"
        }
      ]
    },
    {
      "cell_type": "code",
      "metadata": {
        "id": "xPMKDykYoDc9",
        "colab_type": "code",
        "outputId": "35e5654b-f6e1-4274-9772-bd12f663a7c1",
        "colab": {
          "base_uri": "https://localhost:8080/",
          "height": 49
        }
      },
      "source": [
        "import pandas\n",
        "df = pandas.read_json('data.json')\n",
        "df.head()\n"
      ],
      "execution_count": 16,
      "outputs": [
        {
          "output_type": "execute_result",
          "data": {
            "text/html": [
              "<div>\n",
              "<style scoped>\n",
              "    .dataframe tbody tr th:only-of-type {\n",
              "        vertical-align: middle;\n",
              "    }\n",
              "\n",
              "    .dataframe tbody tr th {\n",
              "        vertical-align: top;\n",
              "    }\n",
              "\n",
              "    .dataframe thead th {\n",
              "        text-align: right;\n",
              "    }\n",
              "</style>\n",
              "<table border=\"1\" class=\"dataframe\">\n",
              "  <thead>\n",
              "    <tr style=\"text-align: right;\">\n",
              "      <th></th>\n",
              "      <th>TITLE</th>\n",
              "      <th>CHANNEL_NAME</th>\n",
              "      <th>NUMBER_OF_VIEWS</th>\n",
              "      <th>LIKES</th>\n",
              "      <th>DISLIKES</th>\n",
              "      <th>NUMBER_OF_SUBSCRIPTIONS</th>\n",
              "      <th>HASH_TAGS</th>\n",
              "    </tr>\n",
              "  </thead>\n",
              "  <tbody>\n",
              "  </tbody>\n",
              "</table>\n",
              "</div>"
            ],
            "text/plain": [
              "Empty DataFrame\n",
              "Columns: [TITLE, CHANNEL_NAME, NUMBER_OF_VIEWS, LIKES, DISLIKES, NUMBER_OF_SUBSCRIPTIONS, HASH_TAGS]\n",
              "Index: []"
            ]
          },
          "metadata": {
            "tags": []
          },
          "execution_count": 16
        }
      ]
    },
    {
      "cell_type": "code",
      "metadata": {
        "id": "u0DCHmEkoEH5",
        "colab_type": "code",
        "colab": {
          "base_uri": "https://localhost:8080/",
          "height": 139
        },
        "outputId": "30d379d6-31d1-4ffa-84cc-239b6de71d69"
      },
      "source": [
        "JSONFile = open('data.json')\n",
        "Video_Report = json.loads(JSONFile.read())\n",
        "JSONFile.close()\n",
        "Video_Report\n"
      ],
      "execution_count": 18,
      "outputs": [
        {
          "output_type": "execute_result",
          "data": {
            "text/plain": [
              "{'CHANNEL_NAME': 'Siivet - Wings',\n",
              " 'DISLIKES': '64',\n",
              " 'HASH_TAGS': [],\n",
              " 'LIKES': '1,138',\n",
              " 'NUMBER_OF_SUBSCRIPTIONS': '3.11K',\n",
              " 'NUMBER_OF_VIEWS': '116,407 views',\n",
              " 'TITLE': 'Indian Air Force Dassault Rafale RB-002 In Flight Air-to-Air'}"
            ]
          },
          "metadata": {
            "tags": []
          },
          "execution_count": 18
        }
      ]
    }
  ]
}